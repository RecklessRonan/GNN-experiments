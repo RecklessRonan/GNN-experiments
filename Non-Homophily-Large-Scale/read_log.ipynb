{
 "cells": [
  {
   "cell_type": "code",
   "execution_count": 10,
   "metadata": {},
   "outputs": [],
   "source": [
    "with open('log.txt', 'r') as f:\n",
    "    all_logs = f.readlines() "
   ]
  },
  {
   "cell_type": "code",
   "execution_count": 11,
   "metadata": {},
   "outputs": [],
   "source": [
    "import re\n",
    "\n",
    "dataset_list = []\n",
    "lr_list = []\n",
    "epochs_list = []\n",
    "hidden_list = []\n",
    "dropout_list = []\n",
    "weight_decay_list = []\n",
    "alpha_list = []\n",
    "beta_list = []\n",
    "gamma_list = []\n",
    "norm_layers_list = []\n",
    "orders_list = []\n",
    "highest_train_list = []\n",
    "highest_valid_list = []\n",
    "final_train_list = []\n",
    "final_test_list = []\n",
    "\n",
    "for logs in all_logs:\n",
    "    if 'Namespace' in logs:\n",
    "        dataset_list.extend(re.findall(r\"dataset='(.*?)', directed\", logs))\n",
    "        lr_list.extend(re.findall(r\"lr=(.*?), method\", logs))\n",
    "        epochs_list.extend(re.findall(r\"epochs=(.*?), gamma\", logs))\n",
    "        dropout_list.extend(re.findall(r\"dropout=(.*?), epochs\", logs))\n",
    "        weight_decay_list.extend(re.findall(r\"weight_decay=(.*?)\\)\", logs))\n",
    "        alpha_list.extend(re.findall(r\"alpha=(.*?), beta\", logs))\n",
    "        beta_list.extend(re.findall(r\"beta=(.*?), cached\", logs))\n",
    "        orders_list.extend(re.findall(r\"orders=(.*?), orders_func_id\", logs))\n",
    "        gamma_list.extend(re.findall(r\"gamma=(.*?), gat_heads\", logs))\n",
    "        norm_layers_list.extend(re.findall(r\"norm_layers=(.*?), num_layers\", logs))\n",
    "        hidden_list.extend(re.findall(r\"hidden_channels=(.*?), hops\", logs))\n",
    "        \n",
    "    if 'Highest Train' in logs and 'nan' in logs:\n",
    "        highest_train_list.extend(re.findall(r\"Highest Train: (.*?) ± nan\", logs))\n",
    "    \n",
    "    if 'Highest Valid' in logs and 'nan' in logs:\n",
    "        highest_valid_list.extend(re.findall(r\"Highest Valid: (.*?) ± nan\", logs))\n",
    "        \n",
    "    if 'Final Train' in logs and 'nan' in logs:\n",
    "        final_train_list.extend(re.findall(r\"Final Train: (.*?) ± nan\", logs))\n",
    "        \n",
    "    if 'Final Test' in logs and 'nan' in logs:\n",
    "        final_test_list.extend(re.findall(r\"Final Test: (.*?) ± nan\", logs))\n",
    "        "
   ]
  },
  {
   "cell_type": "code",
   "execution_count": 12,
   "metadata": {},
   "outputs": [],
   "source": [
    "import pandas as pd\n",
    "import os\n",
    "\n",
    "d = {\n",
    "    'dataset': dataset_list,\n",
    "    'lr': lr_list,\n",
    "    'epoch': epochs_list,\n",
    "    'hidden': hidden_list,\n",
    "    'dropout': dropout_list,\n",
    "    'weight_decay': weight_decay_list,\n",
    "    'alpha': alpha_list,\n",
    "    'beta': beta_list,\n",
    "    'gamma': gamma_list,\n",
    "    'norm_layers': norm_layers_list,\n",
    "    'orders': orders_list,\n",
    "    'high_train': highest_train_list,\n",
    "    'high_valid': highest_valid_list,\n",
    "    'final_train': final_train_list,\n",
    "    'final_test': final_test_list\n",
    "}\n",
    "\n",
    "# for k, v in d.items():\n",
    "#     print(k, len(v))\n",
    "\n",
    "csv_name = 'results/all_dataset_tuning.csv'\n",
    "df = pd.DataFrame.from_dict(d)\n",
    "if os.path.exists(csv_name):\n",
    "    df.to_csv(csv_name, mode='a', header=False)\n",
    "else:\n",
    "    df.to_csv(csv_name)"
   ]
  }
 ],
 "metadata": {
  "interpreter": {
   "hash": "caf1c2fcf97217de91eafa76b907d50f9ea378f5ffbee7f571142d119bb6a771"
  },
  "kernelspec": {
   "display_name": "Python 3.8.8 64-bit ('base': conda)",
   "language": "python",
   "name": "python3"
  },
  "language_info": {
   "codemirror_mode": {
    "name": "ipython",
    "version": 3
   },
   "file_extension": ".py",
   "mimetype": "text/x-python",
   "name": "python",
   "nbconvert_exporter": "python",
   "pygments_lexer": "ipython3",
   "version": "3.8.8"
  },
  "orig_nbformat": 4
 },
 "nbformat": 4,
 "nbformat_minor": 2
}
