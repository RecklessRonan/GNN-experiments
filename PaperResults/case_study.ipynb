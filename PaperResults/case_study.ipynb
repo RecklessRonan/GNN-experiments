{
 "cells": [
  {
   "cell_type": "code",
   "execution_count": 269,
   "metadata": {},
   "outputs": [],
   "source": [
    "import torch\n",
    "import numpy as np\n",
    "import networkx as nx\n",
    "import pickle\n",
    "import os\n",
    "import matplotlib.pyplot as plt"
   ]
  },
  {
   "cell_type": "code",
   "execution_count": 270,
   "metadata": {},
   "outputs": [],
   "source": [
    "dataset= 'squirrel'"
   ]
  },
  {
   "cell_type": "code",
   "execution_count": 271,
   "metadata": {},
   "outputs": [],
   "source": [
    "z_dir = '../pygcn/z_vis/' + dataset + '/0/'"
   ]
  },
  {
   "cell_type": "code",
   "execution_count": 272,
   "metadata": {},
   "outputs": [],
   "source": [
    "graph_edges = '../pygcn/new_data/' + dataset + '/out1_graph_edges.txt'\n",
    "with open(graph_edges, 'r') as f:\n",
    "    lines = f.readlines()"
   ]
  },
  {
   "cell_type": "code",
   "execution_count": 273,
   "metadata": {},
   "outputs": [],
   "source": [
    "node_nums ={\n",
    "    'texas': 183,\n",
    "    'wisconsin': 251,\n",
    "    'cornell': 183,\n",
    "    'film': 7600,\n",
    "    'squirrel': 5201,\n",
    "    'chameleon': 2277,\n",
    "    'cora': 2708,\n",
    "    'citeseer': 3327,\n",
    "    'pubmed': 19717\n",
    "}\n",
    "\n",
    "node_num = node_nums[dataset]\n",
    "adj = np.zeros((node_num, node_num))\n",
    "\n",
    "for i in range(1, len(lines)):\n",
    "    line = lines[i]\n",
    "    line = line.rstrip().split('\\t')\n",
    "    adj[int(line[0]), int(line[1])] = 1\n",
    "    adj[int(line[1]), int(line[0])] = 1\n"
   ]
  },
  {
   "cell_type": "code",
   "execution_count": 274,
   "metadata": {},
   "outputs": [
    {
     "data": {
      "text/plain": [
       "array([[0., 0., 0., ..., 0., 0., 0.],\n",
       "       [0., 0., 0., ..., 0., 0., 0.],\n",
       "       [0., 0., 0., ..., 0., 0., 0.],\n",
       "       ...,\n",
       "       [0., 0., 0., ..., 0., 0., 0.],\n",
       "       [0., 0., 0., ..., 0., 0., 0.],\n",
       "       [0., 0., 0., ..., 0., 0., 0.]])"
      ]
     },
     "execution_count": 274,
     "metadata": {},
     "output_type": "execute_result"
    }
   ],
   "source": [
    "adj"
   ]
  },
  {
   "cell_type": "code",
   "execution_count": 275,
   "metadata": {},
   "outputs": [],
   "source": [
    "G = nx.from_numpy_matrix(adj)"
   ]
  },
  {
   "cell_type": "code",
   "execution_count": 276,
   "metadata": {},
   "outputs": [],
   "source": [
    "# path_dir = 'hop_pkls/' + dataset + '_path.pkl'\n",
    "\n",
    "# if os.path.exists(path_dir):\n",
    "#     with open(path_dir, 'rb') as f:\n",
    "#         path = pickle.load(f)\n",
    "# else:\n",
    "#     path = dict(nx.all_pairs_shortest_path(G))\n",
    "#     with open(path_dir, 'wb') as f:\n",
    "#         pickle.dump(path, f)"
   ]
  },
  {
   "cell_type": "code",
   "execution_count": 277,
   "metadata": {},
   "outputs": [],
   "source": [
    "path_length_dir = 'hop_pkls/' + dataset + '_path_length.pkl'\n",
    "\n",
    "if os.path.exists(path_length_dir):\n",
    "    with open(path_length_dir, 'rb') as f:\n",
    "        path_length = pickle.load(f)\n",
    "else:\n",
    "    path_length = dict(nx.all_pairs_shortest_path_length(G))\n",
    "    with open(path_length_dir, 'wb') as f:\n",
    "        pickle.dump(path_length, f)\n",
    "\n"
   ]
  },
  {
   "cell_type": "code",
   "execution_count": 278,
   "metadata": {},
   "outputs": [],
   "source": [
    "distance = np.zeros((node_num, node_num))\n",
    "for i in range(node_num):\n",
    "    for j in range(node_num):\n",
    "        distance[i][j] = path_length[i][j]"
   ]
  },
  {
   "cell_type": "code",
   "execution_count": 279,
   "metadata": {},
   "outputs": [
    {
     "name": "stdout",
     "output_type": "stream",
     "text": [
      "[[0.0000000e+00 7.6000000e+03]\n",
      " [1.0000000e+00 5.3318000e+04]\n",
      " [2.0000000e+00 2.5291360e+06]\n",
      " [3.0000000e+00 1.2909562e+07]\n",
      " [4.0000000e+00 2.3515174e+07]\n",
      " [5.0000000e+00 1.3979884e+07]\n",
      " [6.0000000e+00 3.9136220e+06]\n",
      " [7.0000000e+00 7.3255200e+05]\n",
      " [8.0000000e+00 1.0508000e+05]\n",
      " [9.0000000e+00 1.2884000e+04]\n",
      " [1.0000000e+01 1.1200000e+03]\n",
      " [1.1000000e+01 6.6000000e+01]\n",
      " [1.2000000e+01 2.0000000e+00]]\n"
     ]
    }
   ],
   "source": [
    "unique, counts = np.unique(distance, return_counts=True)\n",
    "print(np.asarray((unique, counts)).T)"
   ]
  },
  {
   "cell_type": "code",
   "execution_count": 280,
   "metadata": {},
   "outputs": [
    {
     "data": {
      "text/plain": [
       "array([ 0.,  1.,  2.,  3.,  4.,  5.,  6.,  7.,  8.,  9., 10., 11., 12.])"
      ]
     },
     "execution_count": 280,
     "metadata": {},
     "output_type": "execute_result"
    }
   ],
   "source": [
    "unique"
   ]
  },
  {
   "cell_type": "code",
   "execution_count": 281,
   "metadata": {},
   "outputs": [
    {
     "data": {
      "text/plain": [
       "array([    7600,    53318,  2529136, 12909562, 23515174, 13979884,\n",
       "        3913622,   732552,   105080,    12884,     1120,       66,\n",
       "              2])"
      ]
     },
     "execution_count": 281,
     "metadata": {},
     "output_type": "execute_result"
    }
   ],
   "source": [
    "counts"
   ]
  },
  {
   "cell_type": "code",
   "execution_count": 282,
   "metadata": {},
   "outputs": [
    {
     "name": "stdout",
     "output_type": "stream",
     "text": [
      "103\n"
     ]
    }
   ],
   "source": [
    "epoch_list = []\n",
    "for file in os.listdir(z_dir):\n",
    "    if file != 'label.pt' and file != 'adj.pt':\n",
    "        # print(file)\n",
    "        name = file.split('.')[0]\n",
    "        name = name.split('_')[1]        \n",
    "        epoch_list.append(int(name))\n",
    "\n",
    "epoch = max(epoch_list)\n",
    "print(epoch)"
   ]
  },
  {
   "cell_type": "code",
   "execution_count": 283,
   "metadata": {},
   "outputs": [],
   "source": [
    "z = torch.load(z_dir+'z_' + str(epoch) + '.pt')"
   ]
  },
  {
   "cell_type": "code",
   "execution_count": 284,
   "metadata": {},
   "outputs": [
    {
     "data": {
      "text/plain": [
       "torch.Size([7600, 7600])"
      ]
     },
     "execution_count": 284,
     "metadata": {},
     "output_type": "execute_result"
    }
   ],
   "source": [
    "z.shape"
   ]
  },
  {
   "cell_type": "code",
   "execution_count": 285,
   "metadata": {},
   "outputs": [],
   "source": [
    "z = z.detach().numpy()"
   ]
  },
  {
   "cell_type": "code",
   "execution_count": 286,
   "metadata": {},
   "outputs": [],
   "source": [
    "labels = torch.load(z_dir + 'label.pt')"
   ]
  },
  {
   "cell_type": "code",
   "execution_count": 287,
   "metadata": {},
   "outputs": [
    {
     "data": {
      "text/plain": [
       "torch.Size([7600])"
      ]
     },
     "execution_count": 287,
     "metadata": {},
     "output_type": "execute_result"
    }
   ],
   "source": [
    "labels.shape"
   ]
  },
  {
   "cell_type": "code",
   "execution_count": 288,
   "metadata": {},
   "outputs": [],
   "source": [
    "labels = labels.detach().numpy()"
   ]
  },
  {
   "cell_type": "code",
   "execution_count": 289,
   "metadata": {},
   "outputs": [
    {
     "name": "stdout",
     "output_type": "stream",
     "text": [
      "z_pos_sum [7600, 11553, 433037, 1922537, 4611831, 2830070, 795485, 150712, 21183, 2905, 225, 12, 0]\n",
      "friends_sum [7600, 11556, 529942, 2731820, 5023526, 2998940, 840846, 158130, 21936, 2984, 234, 14, 0]\n"
     ]
    }
   ],
   "source": [
    "z_pos_sum = [0] * unique.shape[0]\n",
    "friends_sum = [0] * unique.shape[0]\n",
    "\n",
    "\n",
    "for i in range(node_num):\n",
    "    for j in range(node_num):\n",
    "        if labels[i] == labels[j]:\n",
    "            friends_sum[int(distance[i][j])] += 1\n",
    "            if z[i][j] > 0:\n",
    "                z_pos_sum[int(distance[i][j])] += 1\n",
    "\n",
    "print('z_pos_sum', z_pos_sum)\n",
    "print('friends_sum', friends_sum)"
   ]
  },
  {
   "cell_type": "code",
   "execution_count": 290,
   "metadata": {},
   "outputs": [
    {
     "name": "stdout",
     "output_type": "stream",
     "text": [
      "z_pos_sum_log [12.89 13.5  18.72 20.87 22.14 21.43 19.6  17.2  14.37 11.5   7.81  3.58\n",
      "  -inf]\n",
      "friends_sum_log [12.89 13.5  19.02 21.38 22.26 21.52 19.68 17.27 14.42 11.54  7.87  3.81\n",
      "  -inf]\n"
     ]
    },
    {
     "name": "stderr",
     "output_type": "stream",
     "text": [
      "/usr/local/lib/python3.6/dist-packages/ipykernel_launcher.py:1: RuntimeWarning: divide by zero encountered in log2\n",
      "  \"\"\"Entry point for launching an IPython kernel.\n",
      "/usr/local/lib/python3.6/dist-packages/ipykernel_launcher.py:2: RuntimeWarning: divide by zero encountered in log2\n",
      "  \n"
     ]
    }
   ],
   "source": [
    "z_pos_sum_log = [np.log2(p) for p in z_pos_sum]\n",
    "friends_sum_log = [np.log2(f) for f in friends_sum]\n",
    "\n",
    "z_pos_sum_log = np.around(z_pos_sum_log, 2)\n",
    "friends_sum_log = np.around(friends_sum_log, 2)\n",
    "\n",
    "print('z_pos_sum_log', z_pos_sum_log)\n",
    "print('friends_sum_log', friends_sum_log)"
   ]
  },
  {
   "cell_type": "code",
   "execution_count": 291,
   "metadata": {},
   "outputs": [
    {
     "data": {
      "text/plain": [
       "array([    7600,    53318,  2529136, 12909562, 23515174, 13979884,\n",
       "        3913622,   732552,   105080,    12884,     1120,       66,\n",
       "              2])"
      ]
     },
     "execution_count": 291,
     "metadata": {},
     "output_type": "execute_result"
    }
   ],
   "source": [
    "counts"
   ]
  },
  {
   "cell_type": "code",
   "execution_count": 292,
   "metadata": {},
   "outputs": [
    {
     "data": {
      "text/plain": [
       "[1.0,\n",
       " 0.2166810458006677,\n",
       " 0.17121934130865243,\n",
       " 0.14892348787666074,\n",
       " 0.1961214915951717,\n",
       " 0.20243873268190207,\n",
       " 0.20326056016651584,\n",
       " 0.20573556552981903,\n",
       " 0.2015892653216597,\n",
       " 0.22547345544861844,\n",
       " 0.20089285714285715,\n",
       " 0.18181818181818182,\n",
       " 0.0]"
      ]
     },
     "execution_count": 292,
     "metadata": {},
     "output_type": "execute_result"
    }
   ],
   "source": [
    "ratio = [z_pos_sum[i]/counts[i] for i in range(len(z_pos_sum))]\n",
    "ratio"
   ]
  },
  {
   "cell_type": "code",
   "execution_count": 293,
   "metadata": {},
   "outputs": [
    {
     "data": {
      "text/plain": [
       "13"
      ]
     },
     "execution_count": 293,
     "metadata": {},
     "output_type": "execute_result"
    }
   ],
   "source": [
    "len(z_pos_sum)"
   ]
  },
  {
   "cell_type": "code",
   "execution_count": 294,
   "metadata": {},
   "outputs": [
    {
     "data": {
      "image/png": "[encoded data removed]",
      "text/plain": [
       "<Figure size 432x288 with 1 Axes>"
      ]
     },
     "metadata": {
      "needs_background": "light"
     },
     "output_type": "display_data"
    }
   ],
   "source": [
    "plt.figure()\n",
    "width = 0.35\n",
    "plt.xlim(0, len(z_pos_sum))\n",
    "plt.ylabel('Number (log2)')\n",
    "plt.xlabel('Hops')\n",
    "hops = np.arange(1, len(z_pos_sum), 1)\n",
    "# new_ratio = [r * 100 for r in ratio[1:]]\n",
    "# plt.plot(hops, new_ratio, marker='*')\n",
    "hatchs = [\"//\", \"\\\\\"]\n",
    "plt.bar(hops - width/2, z_pos_sum_log[1:], label='z_pos_num', width=width, hatch='//', edgecolor='black', color='coral')\n",
    "plt.bar(hops + width/2, friends_sum_log[1:], label='friends_num', width=width, hatch=\"\", edgecolor='black', color='royalblue')\n",
    "plt.legend(loc='upper right')\n",
    "plt.savefig('case_study/case_study_{}.pdf'.format(dataset))\n",
    "plt.show()"
   ]
  },
  {
   "cell_type": "code",
   "execution_count": null,
   "metadata": {},
   "outputs": [],
   "source": []
  }
 ],
 "metadata": {
  "interpreter": {
   "hash": "31f2aee4e71d21fbe5cf8b01ff0e069b9275f58929596ceb00d14d90e3e16cd6"
  },
  "kernelspec": {
   "display_name": "Python 3.6.9 64-bit",
   "language": "python",
   "name": "python3"
  },
  "language_info": {
   "codemirror_mode": {
    "name": "ipython",
    "version": 3
   },
   "file_extension": ".py",
   "mimetype": "text/x-python",
   "name": "python",
   "nbconvert_exporter": "python",
   "pygments_lexer": "ipython3",
   "version": "3.6.9"
  },
  "orig_nbformat": 4
 },
 "nbformat": 4,
 "nbformat_minor": 2
}
