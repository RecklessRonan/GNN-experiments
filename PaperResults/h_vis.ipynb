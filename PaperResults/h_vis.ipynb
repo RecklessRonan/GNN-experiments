{
 "cells": [
  {
   "cell_type": "code",
   "execution_count": 78,
   "metadata": {},
   "outputs": [],
   "source": [
    "import torch\n",
    "import numpy as np\n",
    "import matplotlib.pyplot as plt\n",
    "import os"
   ]
  },
  {
   "cell_type": "code",
   "execution_count": 79,
   "metadata": {},
   "outputs": [],
   "source": [
    "dataset = 'wisconsin'\n",
    "split = '3'\n",
    "\n",
    "# multiples = 40\n",
    "h_dir = '../pygcn/h_vis/' + str(dataset) + '/' + str(split) + '/'\n"
   ]
  },
  {
   "cell_type": "code",
   "execution_count": 80,
   "metadata": {},
   "outputs": [
    {
     "name": "stdout",
     "output_type": "stream",
     "text": [
      "519\n"
     ]
    }
   ],
   "source": [
    "epoch_list = []\n",
    "for file in os.listdir(h_dir):\n",
    "    if file != 'label.pt':\n",
    "        name = file.split('.')[0]\n",
    "        name = name.split('_')[1]        \n",
    "        epoch_list.append(int(name))\n",
    "\n",
    "epoch = max(epoch_list)\n",
    "print(epoch)"
   ]
  },
  {
   "cell_type": "code",
   "execution_count": 81,
   "metadata": {},
   "outputs": [],
   "source": [
    "h_file = h_dir + 'x_' + str(epoch) + '.pt'\n",
    "label_file = h_dir + 'label.pt'"
   ]
  },
  {
   "cell_type": "code",
   "execution_count": 82,
   "metadata": {},
   "outputs": [],
   "source": [
    "h = torch.load(h_file)\n",
    "label = torch.load(label_file)"
   ]
  },
  {
   "cell_type": "code",
   "execution_count": 83,
   "metadata": {},
   "outputs": [],
   "source": [
    "h = h.detach().numpy()\n",
    "label = label.detach().numpy()"
   ]
  },
  {
   "cell_type": "code",
   "execution_count": 84,
   "metadata": {},
   "outputs": [
    {
     "data": {
      "text/plain": [
       "(251, 5)"
      ]
     },
     "execution_count": 84,
     "metadata": {},
     "output_type": "execute_result"
    }
   ],
   "source": [
    "h.shape"
   ]
  },
  {
   "cell_type": "code",
   "execution_count": 85,
   "metadata": {},
   "outputs": [
    {
     "data": {
      "text/plain": [
       "(251,)"
      ]
     },
     "execution_count": 85,
     "metadata": {},
     "output_type": "execute_result"
    }
   ],
   "source": [
    "label.shape"
   ]
  },
  {
   "cell_type": "code",
   "execution_count": 86,
   "metadata": {},
   "outputs": [],
   "source": [
    "# array([3, 0, 2, 3, 4, 3, 0, 0, 3, 0, 3, 3, 3, 3, 3, 4, 3, 3, 0, 3, 0, 3,\n",
    "#        3, 3, 3, 1, 3, 3, 0, 2, 3, 3, 4, 3, 4, 4, 2, 3, 3, 3, 0, 4, 0, 3,\n",
    "#        3, 3, 2, 2, 0, 3, 0, 3, 3, 3, 3, 3, 0, 2, 2, 4, 4, 4, 3, 3, 3, 3,\n",
    "#        0, 3, 3, 3, 4, 3, 3, 4, 4, 3, 0, 3, 0, 3, 4, 3, 2, 4, 2, 4, 3, 3,\n",
    "#        0, 3, 3, 3, 0, 3, 3, 4, 3, 3, 3, 4, 0, 0, 4, 3, 3, 0, 4, 3, 2, 3,\n",
    "#        3, 0, 3, 0, 0, 3, 3, 4, 3, 3, 3, 0, 3, 0, 3, 2, 4, 2, 3, 3, 0, 4,\n",
    "#        3, 4, 3, 4, 3, 3, 0, 3, 2, 3, 3, 3, 3, 3, 3, 2, 3, 4, 3, 4, 3, 3,\n",
    "#        3, 3, 0, 2, 0, 2, 3, 3, 4, 3, 0, 3, 3, 2, 0, 3, 3, 4, 3, 2, 0, 3,\n",
    "#        0, 4, 3, 3, 4, 3, 3])"
   ]
  },
  {
   "cell_type": "code",
   "execution_count": 87,
   "metadata": {},
   "outputs": [
    {
     "data": {
      "text/plain": [
       "array([[-0.41762632,  7.49952168, -0.6563621 , -1.47889597, -4.93227903],\n",
       "       [-0.38055068, -2.34505971,  8.11294017, -3.68096251, -7.84120855],\n",
       "       [-0.36394609, -7.38405095,  7.94575455,  0.78352161, -8.03204774],\n",
       "       ...,\n",
       "       [-0.42304396,  1.32465866, 12.56491439, -4.35130063, -2.43691453],\n",
       "       [-0.41541246,  8.19531349,  0.50116954, -4.27302986, -5.8033517 ],\n",
       "       [-0.39964553,  0.76514762,  9.13960295, -4.9280907 , -1.51172785]])"
      ]
     },
     "execution_count": 87,
     "metadata": {},
     "output_type": "execute_result"
    }
   ],
   "source": [
    "h"
   ]
  },
  {
   "cell_type": "code",
   "execution_count": 88,
   "metadata": {},
   "outputs": [
    {
     "data": {
      "text/plain": [
       "array([1, 2, 2, 2, 1, 1, 1, 1, 2, 0, 2, 2, 2, 2, 2, 2, 2, 2, 3, 2, 1, 1,\n",
       "       2, 2, 1, 3, 1, 3, 1, 2, 2, 2, 2, 2, 1, 1, 1, 3, 1, 3, 2, 2, 1, 2,\n",
       "       4, 2, 4, 3, 1, 2, 4, 4, 1, 1, 3, 2, 2, 2, 3, 1, 1, 2, 2, 4, 4, 2,\n",
       "       1, 0, 2, 2, 2, 2, 2, 2, 1, 3, 2, 2, 1, 4, 2, 2, 1, 1, 1, 2, 2, 1,\n",
       "       2, 1, 2, 1, 4, 3, 2, 2, 2, 1, 1, 2, 0, 3, 3, 2, 2, 2, 2, 3, 1, 2,\n",
       "       1, 2, 1, 1, 2, 1, 1, 2, 3, 4, 2, 3, 2, 2, 2, 2, 3, 1, 1, 2, 1, 0,\n",
       "       2, 2, 2, 0, 2, 3, 0, 2, 2, 2, 2, 0, 3, 2, 3, 4, 1, 1, 1, 0, 1, 2,\n",
       "       2, 2, 4, 4, 1, 4, 3, 4, 2, 2, 2, 4, 2, 1, 2, 2, 2, 2, 2, 3, 2, 3,\n",
       "       3, 2, 3, 3, 2, 1, 2, 0, 4, 2, 4, 0, 1, 1, 2, 1, 3, 2, 2, 2, 1, 3,\n",
       "       4, 1, 1, 1, 2, 2, 1, 1, 1, 1, 1, 2, 3, 2, 4, 2, 1, 1, 2, 1, 3, 3,\n",
       "       2, 2, 1, 3, 1, 2, 2, 2, 1, 2, 2, 4, 2, 1, 2, 2, 2, 2, 2, 2, 3, 2,\n",
       "       1, 1, 4, 1, 2, 2, 2, 1, 2])"
      ]
     },
     "execution_count": 88,
     "metadata": {},
     "output_type": "execute_result"
    }
   ],
   "source": [
    "label"
   ]
  },
  {
   "cell_type": "code",
   "execution_count": 89,
   "metadata": {},
   "outputs": [],
   "source": [
    "dl, ln = np.unique(label, return_counts=True)"
   ]
  },
  {
   "cell_type": "code",
   "execution_count": 90,
   "metadata": {},
   "outputs": [
    {
     "data": {
      "text/plain": [
       "array([0, 1, 2, 3, 4])"
      ]
     },
     "execution_count": 90,
     "metadata": {},
     "output_type": "execute_result"
    }
   ],
   "source": [
    "dl"
   ]
  },
  {
   "cell_type": "code",
   "execution_count": 91,
   "metadata": {},
   "outputs": [
    {
     "data": {
      "text/plain": [
       "array([ 10,  70, 118,  32,  21])"
      ]
     },
     "execution_count": 91,
     "metadata": {},
     "output_type": "execute_result"
    }
   ],
   "source": [
    "# texas array([ 33,   1,  18, 101,  30])\n",
    "# wisconsin array([ 10,  70, 118,  32,  21])\n",
    "# cornell array([ 33,   1,  18, 101,  30])\n",
    "ln"
   ]
  },
  {
   "cell_type": "code",
   "execution_count": 92,
   "metadata": {},
   "outputs": [
    {
     "name": "stdout",
     "output_type": "stream",
     "text": [
      "[0, 10, 80, 198, 230]\n",
      "[10, 80, 81, 82, 11, 12, 13, 14, 83, 0, 84, 85, 86, 87, 88, 89, 90, 91, 198, 92, 15, 16, 93, 94, 17, 199, 18, 200, 19, 95, 96, 97, 98, 99, 20, 21, 22, 201, 23, 202, 100, 101, 24, 102, 230, 103, 231, 203, 25, 104, 232, 233, 26, 27, 204, 105, 106, 107, 205, 28, 29, 108, 109, 234, 235, 110, 30, 1, 111, 112, 113, 114, 115, 116, 31, 206, 117, 118, 32, 236, 119, 120, 33, 34, 35, 121, 122, 36, 123, 37, 124, 38, 237, 207, 125, 126, 127, 39, 40, 128, 2, 208, 209, 129, 130, 131, 132, 210, 41, 133, 42, 134, 43, 44, 135, 45, 46, 136, 211, 238, 137, 212, 138, 139, 140, 141, 213, 47, 48, 142, 49, 3, 143, 144, 145, 4, 146, 214, 5, 147, 148, 149, 150, 6, 215, 151, 216, 239, 50, 51, 52, 7, 53, 152, 153, 154, 240, 241, 54, 242, 217, 243, 155, 156, 157, 244, 158, 55, 159, 160, 161, 162, 163, 218, 164, 219, 220, 165, 221, 222, 166, 56, 167, 8, 245, 168, 246, 9, 57, 58, 169, 59, 223, 170, 171, 172, 60, 224, 247, 61, 62, 63, 173, 174, 64, 65, 66, 67, 68, 175, 225, 176, 248, 177, 69, 70, 178, 71, 226, 227, 179, 180, 72, 228, 73, 181, 182, 183, 74, 184, 185, 249, 186, 75, 187, 188, 189, 190, 191, 192, 229, 193, 76, 77, 250, 78, 194, 195, 196, 79, 197]\n"
     ]
    }
   ],
   "source": [
    "new_index = [0] * label.shape[0]\n",
    "new_label_index = [0] * len(dl)\n",
    "for i in range(1, len(new_label_index)):\n",
    "    new_label_index[i] = new_label_index[i-1] + ln[i-1]\n",
    "print(new_label_index)\n",
    "\n",
    "for i in range(label.shape[0]):\n",
    "    for l in dl:\n",
    "        if label[i] == l:\n",
    "            new_index[i] = new_label_index[l]\n",
    "            new_label_index[l] += 1\n",
    "\n",
    "print(new_index)\n"
   ]
  },
  {
   "cell_type": "code",
   "execution_count": 93,
   "metadata": {},
   "outputs": [],
   "source": [
    "h_new = h * 1\n",
    "\n",
    "for i in range(h.shape[0]):\n",
    "    h_new[new_index[i]] = h[i]"
   ]
  },
  {
   "cell_type": "code",
   "execution_count": 94,
   "metadata": {},
   "outputs": [
    {
     "data": {
      "text/plain": [
       "array([[ -0.36976343,  -0.98605013,   0.83723128,  -0.51970067,\n",
       "         -3.07904519],\n",
       "       [ -0.28404248,  -5.79074059,  -6.80449549,  -6.4686033 ,\n",
       "         -6.58957672],\n",
       "       [ -0.35394626,  -1.9407593 ,  -0.44446601,  -1.59963729,\n",
       "         -3.86374008],\n",
       "       ...,\n",
       "       [ -0.35587043,  -2.81705021,   9.7466031 , -13.66310235,\n",
       "          2.64414079],\n",
       "       [ -0.37877063,   0.51504649,  -0.30079043,   0.66659957,\n",
       "          2.03221718],\n",
       "       [ -0.33487874,  -3.02450947,  -1.53431485,  -3.88709741,\n",
       "          6.95742286]])"
      ]
     },
     "execution_count": 94,
     "metadata": {},
     "output_type": "execute_result"
    }
   ],
   "source": [
    "h_new"
   ]
  },
  {
   "cell_type": "code",
   "execution_count": 95,
   "metadata": {},
   "outputs": [],
   "source": [
    "def get_min_max(z):\n",
    "    l_max = []\n",
    "    l_min = []\n",
    "    for zl in z:\n",
    "        l_max.append(max(zl))\n",
    "        l_min.append(min(zl))\n",
    "    print(max(l_max))\n",
    "    print(min(l_min))"
   ]
  },
  {
   "cell_type": "code",
   "execution_count": 96,
   "metadata": {},
   "outputs": [],
   "source": [
    "\n",
    "def normalize_array(m):\n",
    "    for i in range(m.shape[0]):\n",
    "        abs_max = max([np.abs(m[i][j]) for j in range(m.shape[1])])\n",
    "        for j in range(m.shape[1]):\n",
    "            m[i][j] = m[i][j] / abs_max\n",
    "    return m"
   ]
  },
  {
   "cell_type": "code",
   "execution_count": 97,
   "metadata": {},
   "outputs": [
    {
     "name": "stdout",
     "output_type": "stream",
     "text": [
      "[[-0.05568706  1.         -0.08752053 -0.19719871 -0.65767915]\n",
      " [-0.04690663 -0.28905177  1.         -0.45371498 -0.9665064 ]\n",
      " [-0.04531174 -0.91932359  0.98925639  0.09754942 -1.        ]\n",
      " ...\n",
      " [-0.03366867  0.1054252   1.         -0.34630563 -0.19394597]\n",
      " [-0.05068903  1.          0.06115319 -0.5213992  -0.70813053]\n",
      " [-0.04372679  0.08371782  1.         -0.53920184 -0.16540411]]\n"
     ]
    }
   ],
   "source": [
    "h = normalize_array(h)\n",
    "print(h)"
   ]
  },
  {
   "cell_type": "code",
   "execution_count": 98,
   "metadata": {},
   "outputs": [
    {
     "name": "stdout",
     "output_type": "stream",
     "text": [
      "[[-0.12009029 -0.32024542  0.27191263 -0.16878631 -1.        ]\n",
      " [-0.04174336 -0.85101689 -1.         -0.95063672 -0.96841518]\n",
      " [-0.09160716 -0.50230069 -0.11503517 -0.41401265 -1.        ]\n",
      " ...\n",
      " [-0.02604609 -0.2061794   0.71335213 -1.          0.19352419]\n",
      " [-0.18638295  0.25344067 -0.14801097  0.32801591  1.        ]\n",
      " [-0.04813258 -0.43471692 -0.22052919 -0.55869788  1.        ]]\n"
     ]
    }
   ],
   "source": [
    "h_new = normalize_array(h_new)\n",
    "print(h_new)"
   ]
  },
  {
   "cell_type": "code",
   "execution_count": 99,
   "metadata": {},
   "outputs": [
    {
     "data": {
      "image/png": "[encoded data removed]",
      "text/plain": [
       "<Figure size 460.8x243.504 with 13 Axes>"
      ]
     },
     "metadata": {
      "needs_background": "light"
     },
     "output_type": "display_data"
    }
   ],
   "source": [
    "cmaps = {}\n",
    "\n",
    "gradient = np.linspace(0, 1, 256)\n",
    "gradient = np.vstack((gradient, gradient))\n",
    "\n",
    "\n",
    "def plot_color_gradients(category, cmap_list):\n",
    "    # Create figure and adjust figure height to number of colormaps\n",
    "    nrows = len(cmap_list)\n",
    "    figh = 0.35 + 0.15 + (nrows + (nrows - 1) * 0.1) * 0.22\n",
    "    fig, axs = plt.subplots(nrows=nrows + 1, figsize=(6.4, figh))\n",
    "    fig.subplots_adjust(top=1 - 0.35 / figh, bottom=0.15 / figh,\n",
    "                        left=0.2, right=0.99)\n",
    "    axs[0].set_title(f'{category} colormaps', fontsize=14)\n",
    "\n",
    "    for ax, name in zip(axs, cmap_list):\n",
    "        ax.imshow(gradient, aspect='auto', cmap=plt.get_cmap(name))\n",
    "        ax.text(-0.01, 0.5, name, va='center', ha='right', fontsize=10,\n",
    "                transform=ax.transAxes)\n",
    "\n",
    "    # Turn off *all* ticks & spines, not just the ones with colormaps.\n",
    "    for ax in axs:\n",
    "        ax.set_axis_off()\n",
    "\n",
    "    # Save colormap list for later.\n",
    "    cmaps[category] = cmap_list\n",
    "\n",
    "plot_color_gradients('Diverging',\n",
    "                     ['PiYG', 'PRGn', 'BrBG', 'PuOr', 'RdGy', 'RdBu', 'RdYlBu',\n",
    "                      'RdYlGn', 'Spectral', 'coolwarm', 'bwr', 'seismic'])"
   ]
  },
  {
   "cell_type": "code",
   "execution_count": 100,
   "metadata": {},
   "outputs": [
    {
     "data": {
      "image/png": "[encoded data removed]",
      "text/plain": [
       "<Figure size 460.8x348.048 with 19 Axes>"
      ]
     },
     "metadata": {
      "needs_background": "light"
     },
     "output_type": "display_data"
    }
   ],
   "source": [
    "plot_color_gradients('Sequential',\n",
    "                     ['Greys', 'Purples', 'Blues', 'Greens', 'Oranges', 'Reds',\n",
    "                      'YlOrBr', 'YlOrRd', 'OrRd', 'PuRd', 'RdPu', 'BuPu',\n",
    "                      'GnBu', 'PuBu', 'YlGnBu', 'PuBuGn', 'BuGn', 'YlGn'])"
   ]
  },
  {
   "cell_type": "code",
   "execution_count": 102,
   "metadata": {},
   "outputs": [
    {
     "data": {
      "image/png": "[encoded data removed]",
      "text/plain": [
       "<Figure size 3600x360 with 1 Axes>"
      ]
     },
     "metadata": {
      "needs_background": "light"
     },
     "output_type": "display_data"
    }
   ],
   "source": [
    "plt.figure(figsize = (50, 5))\n",
    "plt.imshow(np.transpose(h_new), cmap='YlGn', extent=[0,251,5,0], aspect='auto')\n",
    "cb = plt.colorbar() \n",
    "cb.remove()\n",
    "plt.xticks(size=30)\n",
    "plt.yticks(size=30)\n",
    "plt.savefig('{}/{}_s{}_e{}_h.pdf'.format('h_plots', dataset, split, epoch), bbox_inches='tight')\n",
    "plt.show()"
   ]
  },
  {
   "cell_type": "code",
   "execution_count": null,
   "metadata": {},
   "outputs": [],
   "source": []
  }
 ],
 "metadata": {
  "interpreter": {
   "hash": "31f2aee4e71d21fbe5cf8b01ff0e069b9275f58929596ceb00d14d90e3e16cd6"
  },
  "kernelspec": {
   "display_name": "Python 3.6.9 64-bit",
   "language": "python",
   "name": "python3"
  },
  "language_info": {
   "codemirror_mode": {
    "name": "ipython",
    "version": 3
   },
   "file_extension": ".py",
   "mimetype": "text/x-python",
   "name": "python",
   "nbconvert_exporter": "python",
   "pygments_lexer": "ipython3",
   "version": "3.6.9"
  },
  "orig_nbformat": 4
 },
 "nbformat": 4,
 "nbformat_minor": 2
}
