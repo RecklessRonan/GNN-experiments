{
 "cells": [
  {
   "cell_type": "code",
   "execution_count": 1,
   "metadata": {},
   "outputs": [],
   "source": [
    "datasets = ['cora', 'citerseer', 'pubmed', 'chameleon', 'cornell', 'film', 'squirrel', 'texas', 'wisconsin']"
   ]
  },
  {
   "cell_type": "code",
   "execution_count": 3,
   "metadata": {},
   "outputs": [
    {
     "name": "stdout",
     "output_type": "stream",
     "text": [
      "dataset:  cora\n",
      "all accurray [0.8450704216957092, 0.8591548800468445, 0.8752514719963074, 0.8531186580657959, 0.8430583477020264, 0.8551307320594788, 0.8551307320594788, 0.8631790280342102, 0.8672031760215759, 0.851106584072113]\n",
      "average accuracy:  0.856740403175354\n",
      "dataset:  citerseer\n",
      "all accurray [0.7252252697944641, 0.7462462782859802, 0.726726770401001, 0.7312312722206116, 0.7617924809455872, 0.7099056839942932, 0.737237274646759, 0.7327327728271484, 0.7552552819252014, 0.7327327728271484]\n",
      "average accuracy:  0.7359085857868195\n",
      "dataset:  pubmed\n",
      "all accurray [0.8884381055831909, 0.883367121219635, 0.8810851573944092, 0.8790567517280579, 0.8831135630607605, 0.8826064467430115, 0.8808315992355347, 0.8793103098869324, 0.8729715943336487, 0.882860004901886]\n",
      "average accuracy:  0.8813640654087067\n",
      "dataset:  chameleon\n",
      "all accurray [0.32236841320991516, 0.30263158679008484, 0.2916666567325592, 0.3662280738353729, 0.34210526943206787, 0.3245614171028137, 0.32236841320991516, 0.2850877344608307, 0.30921053886413574, 0.2982456088066101]\n",
      "average accuracy:  0.31644737124443056\n",
      "dataset:  cornell\n",
      "all accurray [0.4324324429035187, 0.4864864945411682, 0.45945948362350464, 0.4864864945411682, 0.5945945978164673, 0.5675675868988037, 0.5675675868988037, 0.5675675868988037, 0.45945948362350464, 0.4864864945411682]\n",
      "average accuracy:  0.5108108252286911\n",
      "dataset:  film\n",
      "all accurray [0.2565789520740509, 0.27368423342704773, 0.276973694562912, 0.2546052634716034, 0.2592105269432068, 0.2638157904148102, 0.2782894968986511, 0.25131580233573914, 0.27302631735801697, 0.2743421196937561]\n",
      "average accuracy:  0.26618421971797945\n",
      "dataset:  squirrel\n",
      "all accurray [0.23246876895427704, 0.25072044134140015, 0.2603265941143036, 0.24591737985610962, 0.25168105959892273, 0.22478385269641876, 0.2411143034696579, 0.2468779981136322, 0.25552353262901306, 0.23246876895427704]\n",
      "average accuracy:  0.24418826997280121\n",
      "dataset:  texas\n",
      "all accurray [0.45945948362350464, 0.5945945978164673, 0.4324324429035187, 0.5405405759811401, 0.5135135054588318, 0.6216216087341309, 0.4054054021835327, 0.5405405759811401, 0.5675675868988037, 0.5945945978164673]\n",
      "average accuracy:  0.5270270377397537\n",
      "dataset:  wisconsin\n",
      "all accurray [0.4313725531101227, 0.4705882668495178, 0.4705882668495178, 0.4901961088180542, 0.529411792755127, 0.37254902720451355, 0.4901961088180542, 0.529411792755127, 0.4313725531101227, 0.37254902720451355]\n",
      "average accuracy:  0.45882354974746703\n"
     ]
    }
   ],
   "source": [
    "for i in range(9):\n",
    "    results = []\n",
    "    for j in range(10):\n",
    "        num = i*10 + j\n",
    "        url = 'runs/GCN_TwoLayers_' + str(num) + '_results.txt'\n",
    "        with open(url, 'r') as f:\n",
    "            s = f.read()\n",
    "            sub1 = '\"test_acc\": '\n",
    "            sub2 = ', \"actual_epochs\"'\n",
    "            result = s[s.index(sub1) + len(sub1): s.index(sub2)]\n",
    "            results.append(float(result))\n",
    "    \n",
    "    print('dataset: ', datasets[i])\n",
    "    print('all accurray', results)\n",
    "    print('average accuracy: ', sum(results)/len(results))"
   ]
  },
  {
   "cell_type": "code",
   "execution_count": null,
   "metadata": {},
   "outputs": [],
   "source": []
  }
 ],
 "metadata": {
  "interpreter": {
   "hash": "30645ce1cf6e309bc342305d9828a61e54ac4ec65cf577c5bc805d61208f222b"
  },
  "kernelspec": {
   "display_name": "Python 3.7.11 64-bit ('gcn-py3.7': conda)",
   "name": "python3"
  },
  "language_info": {
   "codemirror_mode": {
    "name": "ipython",
    "version": 3
   },
   "file_extension": ".py",
   "mimetype": "text/x-python",
   "name": "python",
   "nbconvert_exporter": "python",
   "pygments_lexer": "ipython3",
   "version": "3.7.11"
  },
  "orig_nbformat": 4
 },
 "nbformat": 4,
 "nbformat_minor": 2
}
