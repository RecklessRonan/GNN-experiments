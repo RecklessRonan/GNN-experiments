{
 "cells": [
  {
   "cell_type": "code",
   "execution_count": 1,
   "metadata": {},
   "outputs": [
    {
     "name": "stdout",
     "output_type": "stream",
     "text": [
      "WARNING:tensorflow:From /data/code/gnn-lx/ppnp/ppnp/tensorflow/model.py:13: The name tf.Session is deprecated. Please use tf.compat.v1.Session instead.\n",
      "\n",
      "WARNING:tensorflow:From /data/code/gnn-lx/ppnp/ppnp/tensorflow/propagation.py:7: The name tf.sparse_tensor_dense_matmul is deprecated. Please use tf.sparse.sparse_dense_matmul instead.\n",
      "\n"
     ]
    }
   ],
   "source": [
    "import logging\n",
    "import tensorflow as tf\n",
    "import os\n",
    "os.environ['TP_CPP_MIN_LOG_LEVEL'] = '3'\n",
    "\n",
    "from ppnp.tensorflow import PPNP\n",
    "from ppnp.tensorflow.training import train_model\n",
    "from ppnp.tensorflow.earlystopping import stopping_args\n",
    "from ppnp.tensorflow.propagation import PPRExact, PPRPowerIteration\n",
    "from ppnp.data.io import load_dataset"
   ]
  },
  {
   "cell_type": "code",
   "execution_count": 2,
   "metadata": {},
   "outputs": [
    {
     "name": "stdout",
     "output_type": "stream",
     "text": [
      "WARNING:tensorflow:From /tmp/ipykernel_449/4001908505.py:1: The name tf.logging.set_verbosity is deprecated. Please use tf.compat.v1.logging.set_verbosity instead.\n",
      "\n",
      "WARNING:tensorflow:From /tmp/ipykernel_449/4001908505.py:1: The name tf.logging.INFO is deprecated. Please use tf.compat.v1.logging.INFO instead.\n",
      "\n"
     ]
    }
   ],
   "source": [
    "tf.logging.set_verbosity(tf.logging.INFO)\n",
    "logging.basicConfig(\n",
    "        format='%(asctime)s: %(message)s',\n",
    "        datefmt='%Y-%m-%d %H:%M:%S',\n",
    "        level=logging.INFO)"
   ]
  },
  {
   "cell_type": "markdown",
   "metadata": {},
   "source": [
    "# Load dataset\n",
    "\n",
    "First we need to load the dataset we want to train on. The datasets used are in the `SparseGraph` format. This is just a class providing the adjacency, attribute and label matrices in a dense (`np.ndarray`) or sparse (`scipy.sparse.csr_matrix`) matrix format and some (in principle unnecessary) convenience functions. If you want to use external datasets, you can e.g. use the `networkx_to_sparsegraph` method in `ppnp.data.io` for converting NetworkX graphs to our SparseGraph format.\n",
    "\n",
    "The four datasets from the paper (Cora-ML, Citeseer, PubMed and MS Academic) can be found in the directory `data`.\n",
    "\n",
    "For this example we choose the Cora-ML graph."
   ]
  },
  {
   "cell_type": "code",
   "execution_count": 3,
   "metadata": {},
   "outputs": [
    {
     "data": {
      "text/plain": [
       "<Undirected, unweighted and connected SparseGraph with 15962 edges (no self-loops). Data: adj_matrix (2810x2810), attr_matrix (2810x2879), labels (2810), node_names (2810), attr_names (2879), class_names (7)>"
      ]
     },
     "execution_count": 3,
     "metadata": {},
     "output_type": "execute_result"
    }
   ],
   "source": [
    "graph_name = 'cora_ml'\n",
    "graph = load_dataset(graph_name)\n",
    "graph.standardize(select_lcc=True)"
   ]
  },
  {
   "cell_type": "markdown",
   "metadata": {},
   "source": [
    "# Set up propagation\n",
    "\n",
    "Next we need to set up the proper propagation scheme. In the paper we've introduced the exact PPR propagation used in PPNP and the PPR power iteration propagation used in APPNP.\n",
    "\n",
    "Here we use the hyperparameters from the paper. Note that we should use a different `alpha = 0.2` for MS Academic."
   ]
  },
  {
   "cell_type": "code",
   "execution_count": 4,
   "metadata": {},
   "outputs": [],
   "source": [
    "prop_ppnp = PPRExact(graph.adj_matrix, alpha=0.1)\n",
    "prop_appnp = PPRPowerIteration(graph.adj_matrix, alpha=0.1, niter=10)"
   ]
  },
  {
   "cell_type": "markdown",
   "metadata": {},
   "source": [
    "# Choose model hyperparameters\n",
    "\n",
    "Now we choose the hyperparameters. These are the ones used in the paper for all datasets.\n",
    "\n",
    "Note that we choose the propagation for APPNP."
   ]
  },
  {
   "cell_type": "code",
   "execution_count": 5,
   "metadata": {},
   "outputs": [],
   "source": [
    "model_args = {\n",
    "    'hiddenunits': [64],\n",
    "    'reg_lambda': 5e-3,\n",
    "    'learning_rate': 0.01,\n",
    "    'keep_prob': 0.5,\n",
    "    'propagation': prop_appnp}"
   ]
  },
  {
   "cell_type": "markdown",
   "metadata": {},
   "source": [
    "# Train model\n",
    "\n",
    "Now we can train the model."
   ]
  },
  {
   "cell_type": "code",
   "execution_count": 6,
   "metadata": {},
   "outputs": [],
   "source": [
    "idx_split_args = {'ntrain_per_class': 20, 'nstopping': 500, 'nknown': 1500, 'seed': 2413340114}\n",
    "test = False\n",
    "save_result = False\n",
    "print_interval = 20"
   ]
  },
  {
   "cell_type": "code",
   "execution_count": 7,
   "metadata": {},
   "outputs": [
    {
     "name": "stderr",
     "output_type": "stream",
     "text": [
      "2021-10-20 03:02:06: PPNP: {'hiddenunits': [64], 'reg_lambda': 0.005, 'learning_rate': 0.01, 'keep_prob': 0.5, 'propagation': <ppnp.tensorflow.propagation.PPRPowerIteration object at 0x7fa9f46f9890>}\n"
     ]
    },
    {
     "name": "stdout",
     "output_type": "stream",
     "text": [
      "WARNING:tensorflow:From /data/code/gnn-lx/ppnp/ppnp/tensorflow/training.py:24: The name tf.reset_default_graph is deprecated. Please use tf.compat.v1.reset_default_graph instead.\n",
      "\n"
     ]
    },
    {
     "name": "stderr",
     "output_type": "stream",
     "text": [
      "2021-10-20 03:02:06: From /data/code/gnn-lx/ppnp/ppnp/tensorflow/training.py:24: The name tf.reset_default_graph is deprecated. Please use tf.compat.v1.reset_default_graph instead.\n",
      "\n"
     ]
    },
    {
     "name": "stdout",
     "output_type": "stream",
     "text": [
      "WARNING:tensorflow:From /data/code/gnn-lx/ppnp/ppnp/tensorflow/training.py:27: The name tf.set_random_seed is deprecated. Please use tf.compat.v1.set_random_seed instead.\n",
      "\n"
     ]
    },
    {
     "name": "stderr",
     "output_type": "stream",
     "text": [
      "2021-10-20 03:02:06: From /data/code/gnn-lx/ppnp/ppnp/tensorflow/training.py:27: The name tf.set_random_seed is deprecated. Please use tf.compat.v1.set_random_seed instead.\n",
      "\n",
      "2021-10-20 03:02:06: Tensorflow seed: 1809758399\n"
     ]
    },
    {
     "name": "stdout",
     "output_type": "stream",
     "text": [
      "WARNING:tensorflow:From /data/code/gnn-lx/ppnp/ppnp/tensorflow/training.py:30: The name tf.ConfigProto is deprecated. Please use tf.compat.v1.ConfigProto instead.\n",
      "\n"
     ]
    },
    {
     "name": "stderr",
     "output_type": "stream",
     "text": [
      "2021-10-20 03:02:06: From /data/code/gnn-lx/ppnp/ppnp/tensorflow/training.py:30: The name tf.ConfigProto is deprecated. Please use tf.compat.v1.ConfigProto instead.\n",
      "\n"
     ]
    },
    {
     "name": "stdout",
     "output_type": "stream",
     "text": [
      "WARNING:tensorflow:From /data/code/gnn-lx/ppnp/ppnp/tensorflow/training.py:30: The name tf.GPUOptions is deprecated. Please use tf.compat.v1.GPUOptions instead.\n",
      "\n"
     ]
    },
    {
     "name": "stderr",
     "output_type": "stream",
     "text": [
      "2021-10-20 03:02:06: From /data/code/gnn-lx/ppnp/ppnp/tensorflow/training.py:30: The name tf.GPUOptions is deprecated. Please use tf.compat.v1.GPUOptions instead.\n",
      "\n"
     ]
    },
    {
     "name": "stdout",
     "output_type": "stream",
     "text": [
      "WARNING:tensorflow:From /data/code/gnn-lx/ppnp/ppnp/tensorflow/model.py:22: The name tf.train.create_global_step is deprecated. Please use tf.compat.v1.train.create_global_step instead.\n",
      "\n"
     ]
    },
    {
     "name": "stderr",
     "output_type": "stream",
     "text": [
      "2021-10-20 03:02:06.916067: I tensorflow/core/platform/cpu_feature_guard.cc:142] Your CPU supports instructions that this TensorFlow binary was not compiled to use: AVX2 AVX512F FMA\n",
      "2021-10-20 03:02:06.926649: I tensorflow/core/platform/profile_utils/cpu_utils.cc:94] CPU Frequency: 2600000000 Hz\n",
      "2021-10-20 03:02:06.929568: I tensorflow/compiler/xla/service/service.cc:168] XLA service 0x559e749a3f30 initialized for platform Host (this does not guarantee that XLA will be used). Devices:\n",
      "2021-10-20 03:02:06.929599: I tensorflow/compiler/xla/service/service.cc:176]   StreamExecutor device (0): Host, Default Version\n",
      "2021-10-20 03:02:06: From /data/code/gnn-lx/ppnp/ppnp/tensorflow/model.py:22: The name tf.train.create_global_step is deprecated. Please use tf.compat.v1.train.create_global_step instead.\n",
      "\n"
     ]
    },
    {
     "name": "stdout",
     "output_type": "stream",
     "text": [
      "WARNING:tensorflow:From /data/code/gnn-lx/ppnp/ppnp/tensorflow/ppnp.py:38: The name tf.placeholder is deprecated. Please use tf.compat.v1.placeholder instead.\n",
      "\n"
     ]
    },
    {
     "name": "stderr",
     "output_type": "stream",
     "text": [
      "2021-10-20 03:02:06: From /data/code/gnn-lx/ppnp/ppnp/tensorflow/ppnp.py:38: The name tf.placeholder is deprecated. Please use tf.compat.v1.placeholder instead.\n",
      "\n"
     ]
    },
    {
     "name": "stdout",
     "output_type": "stream",
     "text": [
      "WARNING:tensorflow:From /data/code/gnn-lx/ppnp/ppnp/tensorflow/ppnp.py:48: The name tf.variable_scope is deprecated. Please use tf.compat.v1.variable_scope instead.\n",
      "\n"
     ]
    },
    {
     "name": "stderr",
     "output_type": "stream",
     "text": [
      "2021-10-20 03:02:06: From /data/code/gnn-lx/ppnp/ppnp/tensorflow/ppnp.py:48: The name tf.variable_scope is deprecated. Please use tf.compat.v1.variable_scope instead.\n",
      "\n"
     ]
    },
    {
     "name": "stdout",
     "output_type": "stream",
     "text": [
      "WARNING:tensorflow:From /data/code/gnn-lx/ppnp/ppnp/tensorflow/ppnp.py:17: The name tf.get_variable is deprecated. Please use tf.compat.v1.get_variable instead.\n",
      "\n"
     ]
    },
    {
     "name": "stderr",
     "output_type": "stream",
     "text": [
      "2021-10-20 03:02:06: From /data/code/gnn-lx/ppnp/ppnp/tensorflow/ppnp.py:17: The name tf.get_variable is deprecated. Please use tf.compat.v1.get_variable instead.\n",
      "\n"
     ]
    },
    {
     "name": "stdout",
     "output_type": "stream",
     "text": [
      "WARNING:tensorflow:From /data/code/gnn-lx/ppnp/ppnp/tensorflow/utils.py:25: calling dropout (from tensorflow.python.ops.nn_ops) with keep_prob is deprecated and will be removed in a future version.\n",
      "Instructions for updating:\n",
      "Please use `rate` instead of `keep_prob`. Rate should be set to `rate = 1 - keep_prob`.\n"
     ]
    },
    {
     "name": "stderr",
     "output_type": "stream",
     "text": [
      "2021-10-20 03:02:06: From /data/code/gnn-lx/ppnp/ppnp/tensorflow/utils.py:25: calling dropout (from tensorflow.python.ops.nn_ops) with keep_prob is deprecated and will be removed in a future version.\n",
      "Instructions for updating:\n",
      "Please use `rate` instead of `keep_prob`. Rate should be set to `rate = 1 - keep_prob`.\n"
     ]
    },
    {
     "name": "stdout",
     "output_type": "stream",
     "text": [
      "WARNING:tensorflow:From /data/code/gnn-lx/ppnp/ppnp/tensorflow/model.py:31: The name tf.summary.scalar is deprecated. Please use tf.compat.v1.summary.scalar instead.\n",
      "\n"
     ]
    },
    {
     "name": "stderr",
     "output_type": "stream",
     "text": [
      "2021-10-20 03:02:07: From /data/code/gnn-lx/ppnp/ppnp/tensorflow/model.py:31: The name tf.summary.scalar is deprecated. Please use tf.compat.v1.summary.scalar instead.\n",
      "\n"
     ]
    },
    {
     "name": "stdout",
     "output_type": "stream",
     "text": [
      "WARNING:tensorflow:From /data/code/gnn-lx/ppnp/ppnp/tensorflow/model.py:81: The name tf.train.AdamOptimizer is deprecated. Please use tf.compat.v1.train.AdamOptimizer instead.\n",
      "\n"
     ]
    },
    {
     "name": "stderr",
     "output_type": "stream",
     "text": [
      "2021-10-20 03:02:07: From /data/code/gnn-lx/ppnp/ppnp/tensorflow/model.py:81: The name tf.train.AdamOptimizer is deprecated. Please use tf.compat.v1.train.AdamOptimizer instead.\n",
      "\n"
     ]
    },
    {
     "name": "stdout",
     "output_type": "stream",
     "text": [
      "WARNING:tensorflow:From /data/code/gnn-lx/ppnp/ppnp/tensorflow/model.py:84: The name tf.train.get_global_step is deprecated. Please use tf.compat.v1.train.get_global_step instead.\n",
      "\n"
     ]
    },
    {
     "name": "stderr",
     "output_type": "stream",
     "text": [
      "2021-10-20 03:02:07: From /data/code/gnn-lx/ppnp/ppnp/tensorflow/model.py:84: The name tf.train.get_global_step is deprecated. Please use tf.compat.v1.train.get_global_step instead.\n",
      "\n"
     ]
    },
    {
     "name": "stdout",
     "output_type": "stream",
     "text": [
      "WARNING:tensorflow:From /data/code/gnn-lx/ppnp/ppnp/tensorflow/model.py:91: The name tf.summary.merge_all is deprecated. Please use tf.compat.v1.summary.merge_all instead.\n",
      "\n"
     ]
    },
    {
     "name": "stderr",
     "output_type": "stream",
     "text": [
      "2021-10-20 03:02:07: From /data/code/gnn-lx/ppnp/ppnp/tensorflow/model.py:91: The name tf.summary.merge_all is deprecated. Please use tf.compat.v1.summary.merge_all instead.\n",
      "\n"
     ]
    },
    {
     "name": "stdout",
     "output_type": "stream",
     "text": [
      "WARNING:tensorflow:From /data/code/gnn-lx/ppnp/ppnp/tensorflow/training.py:47: The name tf.global_variables_initializer is deprecated. Please use tf.compat.v1.global_variables_initializer instead.\n",
      "\n"
     ]
    },
    {
     "name": "stderr",
     "output_type": "stream",
     "text": [
      "2021-10-20 03:02:07: From /data/code/gnn-lx/ppnp/ppnp/tensorflow/training.py:47: The name tf.global_variables_initializer is deprecated. Please use tf.compat.v1.global_variables_initializer instead.\n",
      "\n",
      "2021-10-20 03:02:08: Step 0: Train loss = 2.26, train acc = 19.3, early stopping loss = 2.10, early stopping acc = 5.4 (0.976 sec)\n"
     ]
    },
    {
     "name": "stdout",
     "output_type": "stream",
     "text": [
      "WARNING:tensorflow:From /data/code/gnn-lx/ppnp/ppnp/tensorflow/model.py:94: The name tf.trainable_variables is deprecated. Please use tf.compat.v1.trainable_variables instead.\n",
      "\n"
     ]
    },
    {
     "name": "stderr",
     "output_type": "stream",
     "text": [
      "2021-10-20 03:02:08: From /data/code/gnn-lx/ppnp/ppnp/tensorflow/model.py:94: The name tf.trainable_variables is deprecated. Please use tf.compat.v1.trainable_variables instead.\n",
      "\n",
      "2021-10-20 03:02:09: Step 20: Train loss = 1.95, train acc = 65.7, early stopping loss = 1.96, early stopping acc = 48.8 (1.013 sec)\n",
      "2021-10-20 03:02:10: Step 40: Train loss = 1.90, train acc = 68.6, early stopping loss = 1.94, early stopping acc = 53.0 (0.837 sec)\n",
      "2021-10-20 03:02:11: Step 60: Train loss = 1.83, train acc = 82.9, early stopping loss = 1.92, early stopping acc = 62.2 (0.829 sec)\n",
      "2021-10-20 03:02:12: Step 80: Train loss = 1.77, train acc = 89.3, early stopping loss = 1.86, early stopping acc = 75.2 (0.831 sec)\n",
      "2021-10-20 03:02:12: Step 100: Train loss = 1.68, train acc = 92.1, early stopping loss = 1.81, early stopping acc = 75.2 (0.825 sec)\n",
      "2021-10-20 03:02:13: Step 120: Train loss = 1.64, train acc = 97.1, early stopping loss = 1.74, early stopping acc = 80.8 (0.822 sec)\n",
      "2021-10-20 03:02:14: Step 140: Train loss = 1.54, train acc = 95.7, early stopping loss = 1.69, early stopping acc = 80.0 (0.821 sec)\n",
      "2021-10-20 03:02:15: Step 160: Train loss = 1.49, train acc = 96.4, early stopping loss = 1.63, early stopping acc = 79.0 (0.827 sec)\n",
      "2021-10-20 03:02:16: Step 180: Train loss = 1.42, train acc = 95.0, early stopping loss = 1.59, early stopping acc = 79.4 (0.817 sec)\n",
      "2021-10-20 03:02:17: Step 200: Train loss = 1.39, train acc = 97.9, early stopping loss = 1.55, early stopping acc = 80.4 (0.821 sec)\n",
      "2021-10-20 03:02:17: Step 220: Train loss = 1.34, train acc = 98.6, early stopping loss = 1.51, early stopping acc = 79.6 (0.824 sec)\n",
      "2021-10-20 03:02:18: Step 240: Train loss = 1.28, train acc = 97.9, early stopping loss = 1.46, early stopping acc = 80.8 (0.820 sec)\n",
      "2021-10-20 03:02:19: Step 260: Train loss = 1.26, train acc = 98.6, early stopping loss = 1.44, early stopping acc = 81.0 (0.819 sec)\n",
      "2021-10-20 03:02:20: Step 280: Train loss = 1.26, train acc = 97.9, early stopping loss = 1.40, early stopping acc = 81.0 (0.825 sec)\n",
      "2021-10-20 03:02:21: Step 300: Train loss = 1.25, train acc = 100.0, early stopping loss = 1.40, early stopping acc = 80.0 (0.823 sec)\n",
      "2021-10-20 03:02:22: Step 320: Train loss = 1.12, train acc = 99.3, early stopping loss = 1.36, early stopping acc = 80.4 (0.876 sec)\n",
      "2021-10-20 03:02:22: Step 340: Train loss = 1.14, train acc = 98.6, early stopping loss = 1.34, early stopping acc = 80.4 (0.842 sec)\n",
      "2021-10-20 03:02:23: Step 360: Train loss = 1.10, train acc = 100.0, early stopping loss = 1.31, early stopping acc = 79.2 (0.831 sec)\n",
      "2021-10-20 03:02:24: Step 380: Train loss = 1.13, train acc = 100.0, early stopping loss = 1.30, early stopping acc = 79.6 (0.823 sec)\n",
      "2021-10-20 03:02:25: Step 400: Train loss = 1.07, train acc = 100.0, early stopping loss = 1.28, early stopping acc = 82.0 (0.823 sec)\n",
      "2021-10-20 03:02:26: Step 420: Train loss = 1.07, train acc = 100.0, early stopping loss = 1.24, early stopping acc = 80.8 (0.823 sec)\n",
      "2021-10-20 03:02:27: Step 440: Train loss = 1.00, train acc = 100.0, early stopping loss = 1.24, early stopping acc = 81.2 (0.825 sec)\n",
      "2021-10-20 03:02:27: Step 460: Train loss = 1.03, train acc = 100.0, early stopping loss = 1.22, early stopping acc = 81.6 (0.831 sec)\n",
      "2021-10-20 03:02:28: Step 480: Train loss = 1.01, train acc = 99.3, early stopping loss = 1.21, early stopping acc = 81.4 (0.825 sec)\n",
      "2021-10-20 03:02:29: Step 500: Train loss = 0.99, train acc = 100.0, early stopping loss = 1.20, early stopping acc = 80.8 (0.821 sec)\n",
      "2021-10-20 03:02:30: Step 520: Train loss = 0.99, train acc = 100.0, early stopping loss = 1.18, early stopping acc = 82.4 (0.818 sec)\n",
      "2021-10-20 03:02:31: Step 540: Train loss = 0.93, train acc = 100.0, early stopping loss = 1.15, early stopping acc = 83.2 (0.825 sec)\n",
      "2021-10-20 03:02:31: Step 560: Train loss = 0.93, train acc = 100.0, early stopping loss = 1.18, early stopping acc = 79.2 (0.827 sec)\n",
      "2021-10-20 03:02:32: Step 580: Train loss = 0.89, train acc = 100.0, early stopping loss = 1.15, early stopping acc = 81.6 (0.862 sec)\n",
      "2021-10-20 03:02:33: Step 600: Train loss = 0.88, train acc = 99.3, early stopping loss = 1.13, early stopping acc = 81.2 (0.825 sec)\n",
      "2021-10-20 03:02:34: Step 620: Train loss = 0.88, train acc = 100.0, early stopping loss = 1.13, early stopping acc = 82.2 (0.831 sec)\n",
      "2021-10-20 03:02:35: Step 640: Train loss = 0.87, train acc = 100.0, early stopping loss = 1.12, early stopping acc = 80.4 (0.845 sec)\n",
      "2021-10-20 03:02:36: Step 660: Train loss = 0.92, train acc = 100.0, early stopping loss = 1.13, early stopping acc = 79.2 (0.825 sec)\n",
      "2021-10-20 03:02:36: Step 680: Train loss = 0.89, train acc = 99.3, early stopping loss = 1.11, early stopping acc = 81.2 (0.829 sec)\n",
      "2021-10-20 03:02:37: Step 700: Train loss = 0.81, train acc = 100.0, early stopping loss = 1.11, early stopping acc = 81.0 (0.826 sec)\n",
      "2021-10-20 03:02:38: Step 720: Train loss = 0.85, train acc = 100.0, early stopping loss = 1.08, early stopping acc = 83.6 (0.830 sec)\n",
      "2021-10-20 03:02:39: Step 740: Train loss = 0.85, train acc = 100.0, early stopping loss = 1.08, early stopping acc = 81.6 (0.831 sec)\n",
      "2021-10-20 03:02:40: Step 760: Train loss = 0.85, train acc = 99.3, early stopping loss = 1.08, early stopping acc = 80.0 (0.824 sec)\n",
      "2021-10-20 03:02:41: Step 780: Train loss = 0.85, train acc = 100.0, early stopping loss = 1.09, early stopping acc = 81.6 (0.833 sec)\n",
      "2021-10-20 03:02:41: Step 800: Train loss = 0.78, train acc = 100.0, early stopping loss = 1.06, early stopping acc = 81.4 (0.828 sec)\n",
      "2021-10-20 03:02:42: Step 820: Train loss = 0.75, train acc = 100.0, early stopping loss = 1.05, early stopping acc = 80.4 (0.835 sec)\n",
      "2021-10-20 03:02:43: Step 840: Train loss = 0.77, train acc = 100.0, early stopping loss = 1.02, early stopping acc = 82.0 (0.820 sec)\n",
      "2021-10-20 03:02:44: Step 860: Train loss = 0.82, train acc = 100.0, early stopping loss = 1.03, early stopping acc = 82.4 (0.824 sec)\n",
      "2021-10-20 03:02:45: Step 880: Train loss = 0.74, train acc = 100.0, early stopping loss = 1.04, early stopping acc = 82.2 (0.832 sec)\n",
      "2021-10-20 03:02:46: Step 900: Train loss = 0.75, train acc = 100.0, early stopping loss = 1.02, early stopping acc = 84.0 (0.818 sec)\n",
      "2021-10-20 03:02:46: Step 920: Train loss = 0.72, train acc = 99.3, early stopping loss = 1.00, early stopping acc = 83.8 (0.825 sec)\n",
      "2021-10-20 03:02:47: Step 940: Train loss = 0.77, train acc = 100.0, early stopping loss = 1.00, early stopping acc = 82.4 (0.832 sec)\n",
      "2021-10-20 03:02:48: Step 960: Train loss = 0.75, train acc = 100.0, early stopping loss = 0.99, early stopping acc = 82.2 (0.823 sec)\n",
      "2021-10-20 03:02:49: Step 980: Train loss = 0.79, train acc = 99.3, early stopping loss = 1.01, early stopping acc = 82.0 (0.831 sec)\n",
      "2021-10-20 03:02:50: Step 1000: Train loss = 0.76, train acc = 100.0, early stopping loss = 1.01, early stopping acc = 82.0 (0.828 sec)\n",
      "2021-10-20 03:02:51: Step 1020: Train loss = 0.74, train acc = 100.0, early stopping loss = 1.00, early stopping acc = 82.6 (0.824 sec)\n",
      "2021-10-20 03:02:51: Step 1040: Train loss = 0.76, train acc = 100.0, early stopping loss = 1.00, early stopping acc = 82.4 (0.822 sec)\n",
      "2021-10-20 03:02:52: Step 1060: Train loss = 0.77, train acc = 100.0, early stopping loss = 1.00, early stopping acc = 81.2 (0.823 sec)\n",
      "2021-10-20 03:02:53: Step 1080: Train loss = 0.77, train acc = 99.3, early stopping loss = 0.99, early stopping acc = 80.8 (0.827 sec)\n",
      "2021-10-20 03:02:54: Step 1100: Train loss = 0.74, train acc = 99.3, early stopping loss = 1.03, early stopping acc = 81.0 (0.857 sec)\n",
      "2021-10-20 03:02:55: Step 1120: Train loss = 0.77, train acc = 100.0, early stopping loss = 0.97, early stopping acc = 81.4 (0.834 sec)\n",
      "2021-10-20 03:02:56: Step 1140: Train loss = 0.76, train acc = 100.0, early stopping loss = 0.99, early stopping acc = 82.4 (0.839 sec)\n",
      "2021-10-20 03:02:56: Step 1160: Train loss = 0.67, train acc = 100.0, early stopping loss = 0.98, early stopping acc = 80.0 (0.832 sec)\n",
      "2021-10-20 03:02:57: Step 1180: Train loss = 0.72, train acc = 100.0, early stopping loss = 0.94, early stopping acc = 82.8 (0.845 sec)\n",
      "2021-10-20 03:02:58: Step 1200: Train loss = 0.72, train acc = 100.0, early stopping loss = 0.97, early stopping acc = 81.0 (0.836 sec)\n",
      "2021-10-20 03:02:59: Step 1220: Train loss = 0.75, train acc = 100.0, early stopping loss = 0.98, early stopping acc = 82.4 (0.845 sec)\n",
      "2021-10-20 03:03:00: Step 1240: Train loss = 0.68, train acc = 100.0, early stopping loss = 0.97, early stopping acc = 80.0 (0.839 sec)\n",
      "2021-10-20 03:03:01: Step 1260: Train loss = 0.72, train acc = 100.0, early stopping loss = 0.97, early stopping acc = 80.8 (0.844 sec)\n",
      "2021-10-20 03:03:01: Step 1280: Train loss = 0.71, train acc = 100.0, early stopping loss = 0.92, early stopping acc = 82.8 (0.857 sec)\n",
      "2021-10-20 03:03:02: Step 1300: Train loss = 0.68, train acc = 100.0, early stopping loss = 0.96, early stopping acc = 83.0 (0.822 sec)\n",
      "2021-10-20 03:03:03: Step 1320: Train loss = 0.67, train acc = 100.0, early stopping loss = 0.94, early stopping acc = 83.0 (0.849 sec)\n",
      "2021-10-20 03:03:04: Step 1340: Train loss = 0.71, train acc = 100.0, early stopping loss = 0.98, early stopping acc = 79.2 (0.837 sec)\n",
      "2021-10-20 03:03:05: Step 1360: Train loss = 0.68, train acc = 100.0, early stopping loss = 0.93, early stopping acc = 81.8 (0.836 sec)\n",
      "2021-10-20 03:03:06: Step 1380: Train loss = 0.67, train acc = 100.0, early stopping loss = 0.94, early stopping acc = 82.0 (0.852 sec)\n",
      "2021-10-20 03:03:06: Step 1400: Train loss = 0.70, train acc = 99.3, early stopping loss = 0.89, early stopping acc = 83.6 (0.845 sec)\n",
      "2021-10-20 03:03:07: Step 1420: Train loss = 0.64, train acc = 100.0, early stopping loss = 0.96, early stopping acc = 79.4 (0.821 sec)\n",
      "2021-10-20 03:03:08: Step 1440: Train loss = 0.64, train acc = 100.0, early stopping loss = 0.93, early stopping acc = 81.6 (0.841 sec)\n",
      "2021-10-20 03:03:09: Step 1460: Train loss = 0.63, train acc = 100.0, early stopping loss = 0.92, early stopping acc = 80.0 (0.827 sec)\n",
      "2021-10-20 03:03:10: Step 1480: Train loss = 0.67, train acc = 100.0, early stopping loss = 0.91, early stopping acc = 82.8 (0.824 sec)\n",
      "2021-10-20 03:03:11: Last step: 1499, best step: 1272 (63.467 sec)\n",
      "2021-10-20 03:03:11: Early stopping accuracy: 85.0%, early stopping F1 score: 0.832\n",
      "2021-10-20 03:03:11: Validation accuracy: 84.5%, test F1 score: 0.833\n"
     ]
    }
   ],
   "source": [
    "result = train_model(\n",
    "        graph_name, PPNP, graph, model_args, idx_split_args,\n",
    "        stopping_args, test, save_result, None, print_interval)"
   ]
  }
 ],
 "metadata": {
  "interpreter": {
   "hash": "30645ce1cf6e309bc342305d9828a61e54ac4ec65cf577c5bc805d61208f222b"
  },
  "kernelspec": {
   "display_name": "Python 3.7.11 64-bit ('gcn-py3.7': conda)",
   "name": "python3"
  },
  "language_info": {
   "codemirror_mode": {
    "name": "ipython",
    "version": 3
   },
   "file_extension": ".py",
   "mimetype": "text/x-python",
   "name": "python",
   "nbconvert_exporter": "python",
   "pygments_lexer": "ipython3",
   "version": "3.7.11"
  }
 },
 "nbformat": 4,
 "nbformat_minor": 2
}
