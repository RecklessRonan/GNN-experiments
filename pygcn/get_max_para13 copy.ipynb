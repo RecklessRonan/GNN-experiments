{
 "cells": [
  {
   "cell_type": "code",
   "execution_count": 367,
   "metadata": {},
   "outputs": [],
   "source": [
    "import pickle\n",
    "import pandas as pd\n",
    "import os\n",
    "import numpy as np"
   ]
  },
  {
   "cell_type": "code",
   "execution_count": 368,
   "metadata": {},
   "outputs": [],
   "source": [
    "import pickle\n",
    "import pandas as pd\n",
    "import os"
   ]
  },
  {
   "cell_type": "code",
   "execution_count": 369,
   "metadata": {},
   "outputs": [],
   "source": [
    "with open('config_list13', 'rb') as f:\n",
    "    config_list = pickle.load(f)\n",
    "non_para = 0\n",
    "exist_para = 0\n",
    "\n",
    "datasets = ['chameleon', 'cornell', 'squirrel', 'film',\n",
    "            'texas', 'wisconsin', 'pubmed', 'cora', 'citeseer']\n",
    "config_str = ['lr', 'do', 'es', 'wd', 'alpha', 'beta',\n",
    "              'gamma', 'delta', 'nlid', 'nl', 'ordersid', 'orders']\n",
    "\n",
    "num_map = [0, 1, 2, 3, 4, 5, 6, 9, 10, 7, 11, 8, 12, 13]"
   ]
  },
  {
   "cell_type": "code",
   "execution_count": 370,
   "metadata": {},
   "outputs": [
    {
     "name": "stdout",
     "output_type": "stream",
     "text": [
      "the number of all parameters 36\n",
      "the number of non-existing parameters 35\n",
      "the number of existing parameters 1\n"
     ]
    }
   ],
   "source": [
    "print('the number of all parameters', len(config_list))\n",
    "results_all = [[] for _ in range(len(config_str) + 3)]\n",
    "for config in config_list:\n",
    "    acc_res = []\n",
    "    for i in range(10):\n",
    "        url_configs = ''\n",
    "        for j in range(len(config_str)):\n",
    "            url_configs += '_' + config_str[j] + str(config[num_map[j]])\n",
    "        url = 'runs/' + datasets[config[-1]] + url_configs + \\\n",
    "            '_split' + str(i) + '_results.txt'\n",
    "        # print(url)\n",
    "        if os.path.exists(url):\n",
    "            # print('url exists')\n",
    "            with open(url, 'r') as f:\n",
    "                s = f.read()\n",
    "                sub1 = '\"test_acc\": '\n",
    "                sub2 = ', \"test_duration\"'\n",
    "                result = s[s.index(sub1) + len(sub1): s.index(sub2)]\n",
    "                acc_res.append(float(result))\n",
    "    # print(url)\n",
    "    # print(len(acc_res))\n",
    "    if len(acc_res) == 10:\n",
    "        exist_para += 1\n",
    "        results_all[0].append(datasets[config[-1]])\n",
    "        for i in range(len(config_str)):\n",
    "            results_all[i+1].append(config[num_map[i]])\n",
    "        results_all[-2].append(np.around(np.mean(acc_res), 4))\n",
    "        results_all[-1].append(np.around(np.std(acc_res), 4))\n",
    "    else:\n",
    "        non_para += 1\n",
    "        # print(url)\n",
    "\n",
    "print('the number of non-existing parameters', non_para)\n",
    "print('the number of existing parameters', exist_para)"
   ]
  },
  {
   "cell_type": "code",
   "execution_count": 371,
   "metadata": {},
   "outputs": [],
   "source": [
    "all_config_str = ['dataset', 'lr', 'dropout', 'early_stopping', 'weight_decay',\n",
    "                  'alpha', 'beta', 'gamma', 'delta', 'norm_func_id', 'norm_layers',\n",
    "                  'orders_func_id', 'orders', 'accuracy', 'std']\n",
    "d = {}\n",
    "assert len(all_config_str) == len(results_all)\n",
    "for i in range(len(all_config_str)):\n",
    "    d[all_config_str[i]] = results_all[i]\n",
    "\n",
    "df = pd.DataFrame.from_dict(d)\n",
    "df = df.sort_values(['dataset', 'accuracy']).reset_index(drop=True)\n",
    "\n",
    "csv_name = 'results/mlpnorm_result_1+2.csv'\n",
    "# if os.path.exists(csv_name):\n",
    "#     df.to_csv(csv_name, mode='a', header=False)\n",
    "# else:\n",
    "#     df.to_csv(csv_name)"
   ]
  },
  {
   "cell_type": "code",
   "execution_count": 372,
   "metadata": {},
   "outputs": [
    {
     "data": {
      "text/html": [
       "<div>\n",
       "<style scoped>\n",
       "    .dataframe tbody tr th:only-of-type {\n",
       "        vertical-align: middle;\n",
       "    }\n",
       "\n",
       "    .dataframe tbody tr th {\n",
       "        vertical-align: top;\n",
       "    }\n",
       "\n",
       "    .dataframe thead th {\n",
       "        text-align: right;\n",
       "    }\n",
       "</style>\n",
       "<table border=\"1\" class=\"dataframe\">\n",
       "  <thead>\n",
       "    <tr style=\"text-align: right;\">\n",
       "      <th></th>\n",
       "      <th>dataset</th>\n",
       "      <th>lr</th>\n",
       "      <th>dropout</th>\n",
       "      <th>early_stopping</th>\n",
       "      <th>weight_decay</th>\n",
       "      <th>alpha</th>\n",
       "      <th>beta</th>\n",
       "      <th>gamma</th>\n",
       "      <th>delta</th>\n",
       "      <th>norm_func_id</th>\n",
       "      <th>norm_layers</th>\n",
       "      <th>orders_func_id</th>\n",
       "      <th>orders</th>\n",
       "      <th>accuracy</th>\n",
       "      <th>std</th>\n",
       "    </tr>\n",
       "  </thead>\n",
       "  <tbody>\n",
       "    <tr>\n",
       "      <th>0</th>\n",
       "      <td>squirrel</td>\n",
       "      <td>0.01</td>\n",
       "      <td>0.0</td>\n",
       "      <td>200</td>\n",
       "      <td>0.0</td>\n",
       "      <td>0.0</td>\n",
       "      <td>1.0</td>\n",
       "      <td>0.0</td>\n",
       "      <td>0.0</td>\n",
       "      <td>2</td>\n",
       "      <td>3</td>\n",
       "      <td>2</td>\n",
       "      <td>2</td>\n",
       "      <td>0.5388</td>\n",
       "      <td>0.0164</td>\n",
       "    </tr>\n",
       "  </tbody>\n",
       "</table>\n",
       "</div>"
      ],
      "text/plain": [
       "    dataset    lr  dropout  early_stopping  weight_decay  alpha  beta  gamma  \\\n",
       "0  squirrel  0.01      0.0             200           0.0    0.0   1.0    0.0   \n",
       "\n",
       "   delta  norm_func_id  norm_layers  orders_func_id  orders  accuracy     std  \n",
       "0    0.0             2            3               2       2    0.5388  0.0164  "
      ]
     },
     "execution_count": 372,
     "metadata": {},
     "output_type": "execute_result"
    }
   ],
   "source": [
    "df[-20:]"
   ]
  },
  {
   "cell_type": "code",
   "execution_count": null,
   "metadata": {},
   "outputs": [],
   "source": []
  }
 ],
 "metadata": {
  "interpreter": {
   "hash": "31f2aee4e71d21fbe5cf8b01ff0e069b9275f58929596ceb00d14d90e3e16cd6"
  },
  "kernelspec": {
   "display_name": "Python 3.6.9 64-bit",
   "language": "python",
   "name": "python3"
  },
  "language_info": {
   "codemirror_mode": {
    "name": "ipython",
    "version": 3
   },
   "file_extension": ".py",
   "mimetype": "text/x-python",
   "name": "python",
   "nbconvert_exporter": "python",
   "pygments_lexer": "ipython3",
   "version": "3.8.8"
  },
  "orig_nbformat": 4
 },
 "nbformat": 4,
 "nbformat_minor": 2
}
