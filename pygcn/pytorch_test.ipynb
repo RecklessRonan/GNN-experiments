{
 "cells": [
  {
   "cell_type": "code",
   "execution_count": 1,
   "metadata": {},
   "outputs": [],
   "source": [
    "import torch"
   ]
  },
  {
   "cell_type": "code",
   "execution_count": 2,
   "metadata": {},
   "outputs": [],
   "source": [
    "orders_weight = torch.nn.Parameter(\n",
    "                torch.ones(3, 1) / 3, requires_grad=True)"
   ]
  },
  {
   "cell_type": "code",
   "execution_count": 3,
   "metadata": {},
   "outputs": [
    {
     "data": {
      "text/plain": [
       "torch.Size([3, 1])"
      ]
     },
     "execution_count": 3,
     "metadata": {},
     "output_type": "execute_result"
    }
   ],
   "source": [
    "orders_weight.shape"
   ]
  },
  {
   "cell_type": "code",
   "execution_count": 4,
   "metadata": {},
   "outputs": [
    {
     "data": {
      "text/plain": [
       "tensor([0.3333], grad_fn=<SelectBackward>)"
      ]
     },
     "execution_count": 4,
     "metadata": {},
     "output_type": "execute_result"
    }
   ],
   "source": [
    "orders_weight[0]"
   ]
  },
  {
   "cell_type": "code",
   "execution_count": 5,
   "metadata": {},
   "outputs": [
    {
     "data": {
      "text/plain": [
       "tensor([0.3333], grad_fn=<SelectBackward>)"
      ]
     },
     "execution_count": 5,
     "metadata": {},
     "output_type": "execute_result"
    }
   ],
   "source": [
    "orders_weight[1]"
   ]
  },
  {
   "cell_type": "code",
   "execution_count": 6,
   "metadata": {},
   "outputs": [
    {
     "data": {
      "text/plain": [
       "tensor([0.3333], grad_fn=<SelectBackward>)"
      ]
     },
     "execution_count": 6,
     "metadata": {},
     "output_type": "execute_result"
    }
   ],
   "source": [
    "orders_weight[2]"
   ]
  },
  {
   "cell_type": "code",
   "execution_count": 7,
   "metadata": {},
   "outputs": [
    {
     "data": {
      "text/plain": [
       "tensor([[ 1.3135,  0.2595, -1.9706, -0.9544],\n",
       "        [-1.5111, -1.1697, -0.3257,  0.2257],\n",
       "        [ 1.6242, -2.0578,  2.0254,  0.7361],\n",
       "        [ 1.1691, -0.8997, -0.8939,  0.5465]])"
      ]
     },
     "execution_count": 7,
     "metadata": {},
     "output_type": "execute_result"
    }
   ],
   "source": [
    "a = torch.randn(4, 4)\n",
    "a"
   ]
  },
  {
   "cell_type": "code",
   "execution_count": 8,
   "metadata": {},
   "outputs": [
    {
     "data": {
      "text/plain": [
       "tensor([[ 0.7312, -0.9582,  0.5702,  2.0466],\n",
       "        [-0.3067, -0.1239,  0.6115, -0.7665],\n",
       "        [-0.7246,  1.4005, -0.7701,  1.5462],\n",
       "        [ 0.9401,  0.5655, -0.7777,  0.6500]])"
      ]
     },
     "execution_count": 8,
     "metadata": {},
     "output_type": "execute_result"
    }
   ],
   "source": [
    "b = torch.randn(4, 4)\n",
    "b"
   ]
  },
  {
   "cell_type": "code",
   "execution_count": 9,
   "metadata": {},
   "outputs": [
    {
     "data": {
      "text/plain": [
       "tensor([[ 2.0447, -0.6987, -1.4004,  1.0923],\n",
       "        [-1.8177, -1.2936,  0.2857, -0.5408],\n",
       "        [ 0.8996, -0.6573,  1.2553,  2.2823],\n",
       "        [ 2.1093, -0.3342, -1.6716,  1.1965]])"
      ]
     },
     "execution_count": 9,
     "metadata": {},
     "output_type": "execute_result"
    }
   ],
   "source": [
    "a + b"
   ]
  },
  {
   "cell_type": "code",
   "execution_count": 12,
   "metadata": {},
   "outputs": [
    {
     "data": {
      "text/plain": [
       "Parameter containing:\n",
       "tensor([[3.9383e-316, 3.9399e-316,  1.4004e+00,  1.0923e+00,  1.8177e+00],\n",
       "        [ 1.2936e+00,  2.8575e-01,  5.4083e-01,  8.9964e-01,  6.5727e-01],\n",
       "        [ 1.2553e+00,  2.2823e+00,  2.1093e+00,  3.3418e-01,  1.6716e+00],\n",
       "        [ 1.1965e+00, 9.4861e-322, 2.3715e-322, 3.9387e-316,  0.0000e+00],\n",
       "        [4.9407e-324,  0.0000e+00,  0.0000e+00, 1.6304e-322, 3.9397e-316]],\n",
       "       dtype=torch.float64, requires_grad=True)"
      ]
     },
     "execution_count": 12,
     "metadata": {},
     "output_type": "execute_result"
    }
   ],
   "source": [
    "orders_weight_matrix = torch.nn.Parameter(\n",
    "            torch.DoubleTensor(5, 5), requires_grad=True\n",
    "        )\n",
    "orders_weight_matrix"
   ]
  },
  {
   "cell_type": "code",
   "execution_count": 13,
   "metadata": {},
   "outputs": [
    {
     "data": {
      "text/plain": [
       "Parameter containing:\n",
       "tensor([[-0.8432,  0.3291,  0.3464, -0.6963, -0.9024],\n",
       "        [ 0.6049,  0.4622,  0.0476, -0.0341,  0.1942],\n",
       "        [-0.1722,  0.2471, -1.1739,  0.6064, -0.2839],\n",
       "        [ 0.9791, -0.6894,  0.9598,  0.4448,  0.6002],\n",
       "        [ 0.6891, -0.4457,  0.5473,  0.2621,  0.4509]], dtype=torch.float64,\n",
       "       requires_grad=True)"
      ]
     },
     "execution_count": 13,
     "metadata": {},
     "output_type": "execute_result"
    }
   ],
   "source": [
    "torch.nn.init.kaiming_normal_(orders_weight_matrix, mode='fan_out')\n",
    "orders_weight_matrix"
   ]
  },
  {
   "cell_type": "code",
   "execution_count": 15,
   "metadata": {},
   "outputs": [
    {
     "data": {
      "text/plain": [
       "tensor([[1., 1.],\n",
       "        [1., 1.],\n",
       "        [1., 1.],\n",
       "        [1., 1.],\n",
       "        [1., 1.]])"
      ]
     },
     "execution_count": 15,
     "metadata": {},
     "output_type": "execute_result"
    }
   ],
   "source": [
    "res = torch.ones(5, 2)\n",
    "res"
   ]
  },
  {
   "cell_type": "code",
   "execution_count": 24,
   "metadata": {},
   "outputs": [
    {
     "data": {
      "text/plain": [
       "tensor([[-0.8432],\n",
       "        [ 0.3291],\n",
       "        [ 0.3464],\n",
       "        [-0.6963],\n",
       "        [-0.9024]], dtype=torch.float64, grad_fn=<UnsqueezeBackward0>)"
      ]
     },
     "execution_count": 24,
     "metadata": {},
     "output_type": "execute_result"
    }
   ],
   "source": [
    "test = orders_weight_matrix[0].unsqueeze(1)\n",
    "test"
   ]
  },
  {
   "cell_type": "code",
   "execution_count": 25,
   "metadata": {},
   "outputs": [
    {
     "data": {
      "text/plain": [
       "tensor([[-0.8432, -0.8432],\n",
       "        [ 0.3291,  0.3291],\n",
       "        [ 0.3464,  0.3464],\n",
       "        [-0.6963, -0.6963],\n",
       "        [-0.9024, -0.9024]], dtype=torch.float64, grad_fn=<MulBackward0>)"
      ]
     },
     "execution_count": 25,
     "metadata": {},
     "output_type": "execute_result"
    }
   ],
   "source": [
    "test * res"
   ]
  },
  {
   "cell_type": "code",
   "execution_count": null,
   "metadata": {},
   "outputs": [],
   "source": []
  }
 ],
 "metadata": {
  "interpreter": {
   "hash": "31f2aee4e71d21fbe5cf8b01ff0e069b9275f58929596ceb00d14d90e3e16cd6"
  },
  "kernelspec": {
   "display_name": "Python 3.6.9 64-bit",
   "name": "python3"
  },
  "language_info": {
   "codemirror_mode": {
    "name": "ipython",
    "version": 3
   },
   "file_extension": ".py",
   "mimetype": "text/x-python",
   "name": "python",
   "nbconvert_exporter": "python",
   "pygments_lexer": "ipython3",
   "version": "3.6.9"
  },
  "orig_nbformat": 4
 },
 "nbformat": 4,
 "nbformat_minor": 2
}
