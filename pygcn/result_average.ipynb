{
 "cells": [
  {
   "cell_type": "code",
   "execution_count": 29,
   "metadata": {},
   "outputs": [],
   "source": [
    "import json"
   ]
  },
  {
   "cell_type": "code",
   "execution_count": 30,
   "metadata": {},
   "outputs": [],
   "source": [
    "# datasets = ['chameleon', 'cornell', 'film', 'squirrel', 'texas', 'wisconsin', 'pubmed', 'cora', 'citeseer']\n",
    "datasets = ['cornell', 'wisconsin', 'film']"
   ]
  },
  {
   "cell_type": "code",
   "execution_count": 31,
   "metadata": {
    "scrolled": true
   },
   "outputs": [
    {
     "name": "stdout",
     "output_type": "stream",
     "text": [
      "dataset:  cornell\n",
      "all accurray [0.6756756756756757, 0.7567567567567568, 0.8108108108108109, 0.8378378378378378, 0.8108108108108109, 0.8648648648648649, 0.8378378378378378, 0.7567567567567568, 0.8378378378378378, 0.7567567567567568]\n",
      "average accuracy:  0.7945945945945947\n",
      "dataset:  wisconsin\n",
      "all accurray [0.803921568627451, 0.8627450980392157, 0.8823529411764706, 0.8823529411764706, 0.8627450980392157, 0.8235294117647058, 0.8627450980392157, 0.803921568627451, 0.803921568627451, 0.8627450980392157]\n",
      "average accuracy:  0.8450980392156863\n",
      "dataset:  film\n",
      "all accurray [0.38092105263157894, 0.36578947368421055, 0.3763157894736842, 0.3592105263157895, 0.3651315789473684, 0.3756578947368421, 0.35986842105263156, 0.3868421052631579, 0.3611842105263158, 0.3815789473684211]\n",
      "average accuracy:  0.37124999999999997\n"
     ]
    }
   ],
   "source": [
    "for d in datasets:\n",
    "    results = []\n",
    "    for i in range(10):\n",
    "        url = 'runs/' + d + '_split' + str(i) + '_results.txt'\n",
    "        # print(url)\n",
    "        with open(url, 'r') as f:\n",
    "            s = f.read()\n",
    "            sub1 = '\"test_acc\": '\n",
    "            sub2 = ', \"test_duration\"'\n",
    "            result = s[s.index(sub1) + len(sub1): s.index(sub2)]\n",
    "            results.append(float(result))\n",
    "    print('dataset: ', d)\n",
    "    print('all accurray', results)\n",
    "    print('average accuracy: ', sum(results)/len(results))"
   ]
  },
  {
   "cell_type": "code",
   "execution_count": 32,
   "metadata": {},
   "outputs": [],
   "source": [
    "# dataset:  chameleon\n",
    "# all accurray [0.5986843705177307, 0.6250001192092896, 0.5679826140403748, 0.6008772850036621, 0.6096492409706116, 0.5986843705177307, 0.5635966062545776, 0.5438597798347473, 0.5767545104026794, 0.5964913368225098]\n",
    "# average accuracy:  0.5881580233573913\n",
    "# dataset:  cornell\n",
    "# all accurray [0.5405405163764954, 0.5945945978164673, 0.5675675272941589, 0.5675675272941589, 0.6486486196517944, 0.6216216087341309, 0.6486486196517944, 0.5945945978164673, 0.5675675272941589, 0.5675675272941589]\n",
    "# average accuracy:  0.5918918669223785\n",
    "# dataset:  film\n",
    "# all accurray [0.2986842095851898, 0.2881578803062439, 0.30921053886413574, 0.30263158679008484, 0.29539474844932556, 0.2993420958518982, 0.28223684430122375, 0.2921052575111389, 0.29539474844932556, 0.30723685026168823]\n",
    "# average accuracy:  0.29703947603702546\n",
    "# dataset:  squirrel\n",
    "# all accurray [0.2612871527671814, 0.31988462805747986, 0.3285301625728607, 0.30739662051200867, 0.311239093542099, 0.3362150490283966, 0.3496636748313904, 0.28818434476852417, 0.2747357487678528, 0.3429393768310547]\n",
    "# average accuracy:  0.31200758516788485\n",
    "# dataset:  texas\n",
    "# all accurray [0.5945945978164673, 0.5945945978164673, 0.5135135054588318, 0.6216216087341309, 0.5675675272941589, 0.6486486196517944, 0.5675675272941589, 0.6486486196517944, 0.5675675272941589, 0.6216216087341309]\n",
    "# average accuracy:  0.5945945739746094\n",
    "# dataset:  wisconsin\n",
    "# all accurray [0.5686274766921997, 0.7058823108673096, 0.5686274766921997, 0.4901960492134094, 0.5686274170875549, 0.6274508833885193, 0.7058823704719543, 0.6274509429931641, 0.47058823704719543, 0.5686274170875549]\n",
    "# average accuracy:  0.5901960581541061"
   ]
  }
 ],
 "metadata": {
  "interpreter": {
   "hash": "31f2aee4e71d21fbe5cf8b01ff0e069b9275f58929596ceb00d14d90e3e16cd6"
  },
  "kernelspec": {
   "display_name": "Python 3.6.9 64-bit",
   "name": "python3"
  },
  "language_info": {
   "codemirror_mode": {
    "name": "ipython",
    "version": 3
   },
   "file_extension": ".py",
   "mimetype": "text/x-python",
   "name": "python",
   "nbconvert_exporter": "python",
   "pygments_lexer": "ipython3",
   "version": "3.6.9"
  }
 },
 "nbformat": 4,
 "nbformat_minor": 2
}
