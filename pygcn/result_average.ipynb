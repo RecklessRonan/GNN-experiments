{
 "cells": [
  {
   "cell_type": "code",
   "execution_count": 91,
   "metadata": {},
   "outputs": [],
   "source": [
    "import json\n",
    "import numpy as np"
   ]
  },
  {
   "cell_type": "code",
   "execution_count": 92,
   "metadata": {},
   "outputs": [],
   "source": [
    "# datasets = ['chameleon', 'cornell', 'film', 'squirrel', 'texas', 'wisconsin', 'pubmed', 'cora', 'citeseer']\n",
    "datasets = ['wisconsin']"
   ]
  },
  {
   "cell_type": "code",
   "execution_count": 93,
   "metadata": {
    "scrolled": true
   },
   "outputs": [
    {
     "name": "stdout",
     "output_type": "stream",
     "text": [
      "dataset:  wisconsin\n",
      "all accurray [80.3921568627451, 86.27450980392157, 86.27450980392157, 94.11764705882352, 86.27450980392157, 86.27450980392157, 88.23529411764706, 82.35294117647058, 80.3921568627451, 90.19607843137256]\n",
      "average accuracy:  86.0784 + 4.0612\n"
     ]
    }
   ],
   "source": [
    "for d in datasets:\n",
    "    results = []\n",
    "    for i in range(10):\n",
    "        url = 'runs/' + d + '_split' + str(i) + '_results.txt'\n",
    "        # print(url)\n",
    "        with open(url, 'r') as f:\n",
    "            s = f.read()\n",
    "            sub1 = '\"test_acc\": '\n",
    "            sub2 = ', \"test_duration\"'\n",
    "            result = s[s.index(sub1) + len(sub1): s.index(sub2)]\n",
    "            results.append(float(result) * 100)\n",
    "    print('dataset: ', d)\n",
    "    print('all accurray', results)\n",
    "    print('average accuracy: ', np.around(np.mean(results), 4), '+', np.around(np.std(results), 4))"
   ]
  },
  {
   "cell_type": "code",
   "execution_count": 94,
   "metadata": {},
   "outputs": [],
   "source": [
    "# dataset:  cornell 2mm + 1relu\n",
    "# all accurray [0.7027027027027027, 0.8108108108108109, 0.918918918918919, 0.918918918918919, 0.8918918918918919, 0.8918918918918919, 0.8378378378378378, 0.7837837837837838, 0.8378378378378378, 0.8108108108108109]\n",
    "# average accuracy:  0.8405405405405405"
   ]
  },
  {
   "cell_type": "code",
   "execution_count": 95,
   "metadata": {},
   "outputs": [],
   "source": [
    "# dataset:  cornell 2mm + 1elu\n",
    "# all accurray [0.6756756756756757, 0.8108108108108109, 0.918918918918919, 0.8918918918918919, 0.8918918918918919, 0.8648648648648649, 0.8378378378378378, 0.7837837837837838, 0.8378378378378378, 0.8108108108108109]\n",
    "# average accuracy:  0.8324324324324325"
   ]
  },
  {
   "cell_type": "code",
   "execution_count": 96,
   "metadata": {},
   "outputs": [],
   "source": [
    "# dataset:  cornell 1mm\n",
    "# all accurray [0.6486486486486487, 0.8108108108108109, 0.918918918918919, 0.8918918918918919, 0.8918918918918919, 0.8918918918918919, 0.8378378378378378, 0.7837837837837838, 0.8378378378378378, 0.8108108108108109]\n",
    "# average accuracy:  0.8324324324324325"
   ]
  },
  {
   "cell_type": "code",
   "execution_count": 97,
   "metadata": {},
   "outputs": [],
   "source": [
    "# dataset:  cornell 1mm + tanh\n",
    "# all accurray [0.6486486486486487, 0.8108108108108109, 0.918918918918919, 0.8918918918918919, 0.8918918918918919, 0.8648648648648649, 0.8378378378378378, 0.7837837837837838, 0.8378378378378378, 0.8108108108108109]\n",
    "# average accuracy:  0.8297297297297298"
   ]
  },
  {
   "cell_type": "code",
   "execution_count": 98,
   "metadata": {},
   "outputs": [],
   "source": [
    "# dataset:  texas 1mm+tanh\n",
    "# all accurray [0.7837837837837838, 0.8918918918918919, 0.7567567567567568, 0.8378378378378378, 0.8378378378378378, 0.8648648648648649, 0.8108108108108109, 0.7837837837837838, 0.8108108108108109, 0.8378378378378378]\n",
    "# average accuracy:  0.8216216216216216"
   ]
  },
  {
   "cell_type": "code",
   "execution_count": 99,
   "metadata": {},
   "outputs": [],
   "source": [
    "# dataset:  texas 2mm + elu\n",
    "# all accurray [0.7567567567567568, 0.8918918918918919, 0.7567567567567568, 0.8648648648648649, 0.8648648648648649, 0.8648648648648649, 0.8108108108108109, 0.7837837837837838, 0.8108108108108109, 0.8108108108108109]\n",
    "# average accuracy:  0.8216216216216216"
   ]
  },
  {
   "cell_type": "code",
   "execution_count": 100,
   "metadata": {},
   "outputs": [],
   "source": [
    "# dataset:  texas 2mm + relu\n",
    "# all accurray [0.7567567567567568, 0.8378378378378378, 0.7567567567567568, 0.8378378378378378, 0.8648648648648649, 0.8648648648648649, 0.8108108108108109, 0.7837837837837838, 0.8378378378378378, 0.8378378378378378]\n",
    "# average accuracy:  0.818918918918919"
   ]
  },
  {
   "cell_type": "code",
   "execution_count": 101,
   "metadata": {},
   "outputs": [],
   "source": [
    "# dataset:  texas 1mm\n",
    "# all accurray [0.7837837837837838, 0.8918918918918919, 0.7567567567567568, 0.8648648648648649, 0.8378378378378378, 0.8378378378378378, 0.8108108108108109, 0.7837837837837838, 0.8108108108108109, 0.8108108108108109]\n",
    "# average accuracy:  0.8189189189189188"
   ]
  },
  {
   "cell_type": "code",
   "execution_count": 102,
   "metadata": {},
   "outputs": [],
   "source": [
    "# dataset:  wisconsin\n",
    "# all accurray [0.803921568627451, 0.8431372549019608, 0.8823529411764706, 0.8823529411764706, 0.8431372549019608, 0.803921568627451, 0.8627450980392157, 0.7843137254901961, 0.803921568627451, 0.9019607843137255]\n",
    "# average accuracy:  0.8411764705882353"
   ]
  },
  {
   "cell_type": "code",
   "execution_count": 103,
   "metadata": {},
   "outputs": [],
   "source": [
    "# dataset:  wisconsin\n",
    "# all accurray [0.803921568627451, 0.8431372549019608, 0.8823529411764706, 0.9019607843137255, 0.8431372549019608, 0.8235294117647058, 0.8627450980392157, 0.7843137254901961, 0.803921568627451, 0.8823529411764706]\n",
    "# average accuracy:  0.8431372549019608"
   ]
  },
  {
   "cell_type": "code",
   "execution_count": 104,
   "metadata": {},
   "outputs": [],
   "source": [
    "# dataset:  wisconsin\n",
    "# all accurray [0.803921568627451, 0.8627450980392157, 0.8627450980392157, 0.9215686274509803, 0.8431372549019608, 0.8431372549019608, 0.8431372549019608, 0.803921568627451, 0.803921568627451, 0.9019607843137255]\n",
    "# average accuracy:  0.8490196078431371"
   ]
  },
  {
   "cell_type": "code",
   "execution_count": 105,
   "metadata": {},
   "outputs": [],
   "source": [
    "# dataset:  wisconsin\n",
    "# all accurray [0.803921568627451, 0.8627450980392157, 0.8823529411764706, 0.8627450980392157, 0.8627450980392157, 0.803921568627451, 0.8627450980392157, 0.803921568627451, 0.7843137254901961, 0.8627450980392157]\n",
    "# average accuracy:  0.8392156862745098"
   ]
  },
  {
   "cell_type": "code",
   "execution_count": 106,
   "metadata": {},
   "outputs": [],
   "source": [
    "# dataset:  wisconsin\n",
    "# all accurray [0.7843137254901961, 0.8431372549019608, 0.7843137254901961, 0.8431372549019608, 0.8235294117647058, 0.7647058823529411, 0.8235294117647058, 0.7254901960784313, 0.7058823529411765, 0.803921568627451]\n",
    "# average accuracy:  0.7901960784313725"
   ]
  },
  {
   "cell_type": "code",
   "execution_count": 107,
   "metadata": {},
   "outputs": [],
   "source": [
    "# dataset:  wisconsin\n",
    "# all accurray [0.7843137254901961, 0.8431372549019608, 0.7843137254901961, 0.8431372549019608, 0.8235294117647058, 0.7647058823529411, 0.8235294117647058, 0.7254901960784313, 0.7058823529411765, 0.803921568627451]\n",
    "# average accuracy:  0.7901960784313725"
   ]
  },
  {
   "cell_type": "code",
   "execution_count": 108,
   "metadata": {},
   "outputs": [],
   "source": [
    "# dataset:  chameleon\n",
    "# all accurray [0.5986843705177307, 0.6250001192092896, 0.5679826140403748, 0.6008772850036621, 0.6096492409706116, 0.5986843705177307, 0.5635966062545776, 0.5438597798347473, 0.5767545104026794, 0.5964913368225098]\n",
    "# average accuracy:  0.5881580233573913\n",
    "# dataset:  cornell\n",
    "# all accurray [0.5405405163764954, 0.5945945978164673, 0.5675675272941589, 0.5675675272941589, 0.6486486196517944, 0.6216216087341309, 0.6486486196517944, 0.5945945978164673, 0.5675675272941589, 0.5675675272941589]\n",
    "# average accuracy:  0.5918918669223785\n",
    "# dataset:  film\n",
    "# all accurray [0.2986842095851898, 0.2881578803062439, 0.30921053886413574, 0.30263158679008484, 0.29539474844932556, 0.2993420958518982, 0.28223684430122375, 0.2921052575111389, 0.29539474844932556, 0.30723685026168823]\n",
    "# average accuracy:  0.29703947603702546\n",
    "# dataset:  squirrel\n",
    "# all accurray [0.2612871527671814, 0.31988462805747986, 0.3285301625728607, 0.30739662051200867, 0.311239093542099, 0.3362150490283966, 0.3496636748313904, 0.28818434476852417, 0.2747357487678528, 0.3429393768310547]\n",
    "# average accuracy:  0.31200758516788485\n",
    "# dataset:  texas\n",
    "# all accurray [0.5945945978164673, 0.5945945978164673, 0.5135135054588318, 0.6216216087341309, 0.5675675272941589, 0.6486486196517944, 0.5675675272941589, 0.6486486196517944, 0.5675675272941589, 0.6216216087341309]\n",
    "# average accuracy:  0.5945945739746094\n",
    "# dataset:  wisconsin\n",
    "# all accurray [0.5686274766921997, 0.7058823108673096, 0.5686274766921997, 0.4901960492134094, 0.5686274170875549, 0.6274508833885193, 0.7058823704719543, 0.6274509429931641, 0.47058823704719543, 0.5686274170875549]\n",
    "# average accuracy:  0.5901960581541061"
   ]
  }
 ],
 "metadata": {
  "interpreter": {
   "hash": "31f2aee4e71d21fbe5cf8b01ff0e069b9275f58929596ceb00d14d90e3e16cd6"
  },
  "kernelspec": {
   "display_name": "Python 3.6.9 64-bit",
   "name": "python3"
  },
  "language_info": {
   "codemirror_mode": {
    "name": "ipython",
    "version": 3
   },
   "file_extension": ".py",
   "mimetype": "text/x-python",
   "name": "python",
   "nbconvert_exporter": "python",
   "pygments_lexer": "ipython3",
   "version": "3.8.3"
  }
 },
 "nbformat": 4,
 "nbformat_minor": 2
}
