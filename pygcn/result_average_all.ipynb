{
 "cells": [
  {
   "cell_type": "code",
   "execution_count": 7,
   "metadata": {},
   "outputs": [],
   "source": [
    "import os"
   ]
  },
  {
   "cell_type": "code",
   "execution_count": 2,
   "metadata": {},
   "outputs": [],
   "source": [
    "datasets = ['chameleon', 'cornell', 'film', 'squirrel', 'texas', 'wisconsin', 'pubmed', 'cora', 'citeseer']"
   ]
  },
  {
   "cell_type": "code",
   "execution_count": 3,
   "metadata": {},
   "outputs": [],
   "source": [
    "# chameleon_lr0.01_es40_wd0.0_alpha1.0_beta1.0_gamma0.2_nl2_orders5_split0_results.txt"
   ]
  },
  {
   "cell_type": "code",
   "execution_count": 4,
   "metadata": {},
   "outputs": [],
   "source": [
    "config_list = []\n",
    "config_list.append([0.01, 40, 0.0005, 1.0, 1.0, 0.2, 2, 5])\n",
    "config_list.append([0.001, 40, 0.0005, 1.0, 1.0, 0.2, 2, 5])\n",
    "config_list.append([0.1, 40, 0.0005, 1.0, 1.0, 0.2, 2, 5])\n",
    "config_list.append([0.01, 200, 0.0005, 1.0, 1.0, 0.2, 2, 5])\n",
    "config_list.append([0.01, 40, 0.0, 1.0, 1.0, 0.2, 2, 5])\n",
    "config_list.append([0.01, 40, 0.0005, 0.1, 1.0, 0.2, 2, 5])\n",
    "config_list.append([0.01, 40, 0.0005, 1.0, 0.1, 0.2, 2, 5])\n",
    "config_list.append([0.01, 40, 0.0005, 1.0, 1.0, 0.8, 2, 5])\n",
    "config_list.append([0.01, 40, 0.0005, 1.0, 1.0, 0.2, 1, 5])\n",
    "config_list.append([0.01, 40, 0.0005, 1.0, 1.0, 0.2, 2, 1])\n",
    "config_list.append([0.01, 40, 0.0005, 1.0, 1.0, 0.2, 2, 3])"
   ]
  },
  {
   "cell_type": "code",
   "execution_count": 13,
   "metadata": {},
   "outputs": [],
   "source": [
    "config_str = ['lr', 'es', 'wd', 'alpha', 'beta', 'gamma', 'nl', 'orders']\n",
    "results_all = [[] for _ in range(len(config_str) + 2)]\n",
    "\n",
    "\n",
    "for config in config_list:\n",
    "    for d in datasets:\n",
    "        acc_res = []\n",
    "        for i in range(10):\n",
    "            url_configs = ''\n",
    "            for j in range(len(config_str)):\n",
    "                url_configs += '_' + config_str[j] + str(config[j])\n",
    "            url = 'runs/' + d + url_configs + '_split' + str(i) + '_results.txt'\n",
    "            if os.path.exists(url):\n",
    "                with open(url, 'r') as f:\n",
    "                    s = f.read()\n",
    "                    sub1 = '\"test_acc\": '\n",
    "                    sub2 = ', \"test_duration\"'\n",
    "                    result = s[s.index(sub1) + len(sub1): s.index(sub2)]\n",
    "                    acc_res.append(float(result))\n",
    "        if len(acc_res) == 10:\n",
    "            results_all[0].append(d)\n",
    "            for i in range(len(config_str)):\n",
    "                results_all[i+1].append(config[i])\n",
    "            results_all[-1].append(sum(acc_res)/len(acc_res))\n",
    "        else:\n",
    "            print(url)"
   ]
  },
  {
   "cell_type": "code",
   "execution_count": 19,
   "metadata": {},
   "outputs": [],
   "source": [
    "import pandas as pd\n",
    "\n",
    "all_config_str = ['dataset', 'lr', 'early_stopping', 'weight_decay', 'alpha',\\\n",
    "     'beta', 'gamma', 'norm_layers', 'orders', 'accuracy']\n",
    "d = {}\n",
    "assert len(all_config_str) == len(results_all)\n",
    "for i in range(len(all_config_str)):\n",
    "    d[all_config_str[i]] = results_all[i]\n",
    "\n",
    "df = pd.DataFrame.from_dict(d)\n",
    "df = df.sort_values(['dataset']).reset_index(drop=True)\n",
    "df.to_csv('mlpnorm_result_all.csv')"
   ]
  },
  {
   "cell_type": "code",
   "execution_count": null,
   "metadata": {},
   "outputs": [],
   "source": []
  }
 ],
 "metadata": {
  "interpreter": {
   "hash": "31f2aee4e71d21fbe5cf8b01ff0e069b9275f58929596ceb00d14d90e3e16cd6"
  },
  "kernelspec": {
   "display_name": "Python 3.6.9 64-bit",
   "name": "python3"
  },
  "language_info": {
   "codemirror_mode": {
    "name": "ipython",
    "version": 3
   },
   "file_extension": ".py",
   "mimetype": "text/x-python",
   "name": "python",
   "nbconvert_exporter": "python",
   "pygments_lexer": "ipython3",
   "version": "3.6.9"
  },
  "orig_nbformat": 4
 },
 "nbformat": 4,
 "nbformat_minor": 2
}
